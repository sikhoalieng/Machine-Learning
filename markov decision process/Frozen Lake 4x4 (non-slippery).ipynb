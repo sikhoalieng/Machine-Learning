{
 "cells": [
  {
   "cell_type": "code",
   "execution_count": 1,
   "metadata": {},
   "outputs": [],
   "source": [
    "import gym\n",
    "from gym.envs.toy_text import frozen_lake\n",
    "import numpy as np\n",
    "import random\n",
    "import matplotlib.pyplot as plt\n",
    "import time"
   ]
  },
  {
   "cell_type": "markdown",
   "metadata": {},
   "source": [
    "### Create Environment"
   ]
  },
  {
   "cell_type": "code",
   "execution_count": 2,
   "metadata": {},
   "outputs": [],
   "source": [
    "np.random.seed(42)\n",
    "state_size = 16\n",
    "custom_map = frozen_lake.generate_random_map(size=int(state_size**(1/2)), p=0.9)"
   ]
  },
  {
   "cell_type": "code",
   "execution_count": 3,
   "metadata": {},
   "outputs": [],
   "source": [
    "\"\"\"\n",
    "Winter is here. You and your friends were tossing around a frisbee at the park\n",
    "when you made a wild throw that left the frisbee out in the middle of the lake.\n",
    "The water is mostly frozen, but there are a few holes where the ice has melted.\n",
    "If you step into one of those holes, you'll fall into the freezing water.\n",
    "At this time, there's an international frisbee shortage, so it's absolutely imperative that\n",
    "you navigate across the lake and retrieve the disc.\n",
    "    \n",
    "S : starting point, safe\n",
    "F : frozen surface, safe\n",
    "H : hole, fall to your doom\n",
    "G : goal, where the frisbee is located\n",
    "\n",
    "The episode ends when you reach the goal or fall in a hole.\n",
    "You receive a reward of 10 if you reach the goal, -100 for falling in a hole, and -0.1 otherwise.\n",
    "\"\"\"\n",
    "\n",
    "env = gym.make('FrozenLake-v0', desc=custom_map, goal_reward=10.0, step_reward=-0.1, hole_reward=-100.0, is_slippery=False)\n",
    "env._max_episode_steps = max(state_size, 100)"
   ]
  },
  {
   "cell_type": "code",
   "execution_count": 4,
   "metadata": {},
   "outputs": [
    {
     "data": {
      "text/plain": [
       "10.0"
      ]
     },
     "execution_count": 4,
     "metadata": {},
     "output_type": "execute_result"
    }
   ],
   "source": [
    "env.goal_reward"
   ]
  },
  {
   "cell_type": "code",
   "execution_count": 5,
   "metadata": {},
   "outputs": [
    {
     "data": {
      "text/plain": [
       "-0.1"
      ]
     },
     "execution_count": 5,
     "metadata": {},
     "output_type": "execute_result"
    }
   ],
   "source": [
    "env.step_reward"
   ]
  },
  {
   "cell_type": "code",
   "execution_count": 6,
   "metadata": {},
   "outputs": [
    {
     "data": {
      "text/plain": [
       "-100.0"
      ]
     },
     "execution_count": 6,
     "metadata": {},
     "output_type": "execute_result"
    }
   ],
   "source": [
    "env.hole_reward"
   ]
  },
  {
   "cell_type": "code",
   "execution_count": 7,
   "metadata": {},
   "outputs": [
    {
     "name": "stdout",
     "output_type": "stream",
     "text": [
      "\n",
      "\u001b[41mS\u001b[0mHFF\n",
      "FFFF\n",
      "FFFH\n",
      "FFFG\n"
     ]
    }
   ],
   "source": [
    "env.render()"
   ]
  },
  {
   "cell_type": "markdown",
   "metadata": {},
   "source": [
    "Possible actions:\n",
    "* LEFT = 0\n",
    "* DOWN = 1\n",
    "* RIGHT = 2\n",
    "* UP = 3"
   ]
  },
  {
   "cell_type": "code",
   "execution_count": 8,
   "metadata": {},
   "outputs": [],
   "source": [
    "action_dict = {0: '⯇', 1: '⯆', 2: '⯈', 3: '⯅'}"
   ]
  },
  {
   "cell_type": "code",
   "execution_count": 9,
   "metadata": {},
   "outputs": [
    {
     "name": "stdout",
     "output_type": "stream",
     "text": [
      "⯇\n",
      "  (Left)\n",
      "\u001b[41mS\u001b[0mHFF\n",
      "FFFF\n",
      "FFFH\n",
      "FFFG\n",
      "⯅\n",
      "  (Up)\n",
      "\u001b[41mS\u001b[0mHFF\n",
      "FFFF\n",
      "FFFH\n",
      "FFFG\n",
      "⯇\n",
      "  (Left)\n",
      "\u001b[41mS\u001b[0mHFF\n",
      "FFFF\n",
      "FFFH\n",
      "FFFG\n",
      "⯅\n",
      "  (Up)\n",
      "\u001b[41mS\u001b[0mHFF\n",
      "FFFF\n",
      "FFFH\n",
      "FFFG\n",
      "⯈\n",
      "  (Right)\n",
      "S\u001b[41mH\u001b[0mFF\n",
      "FFFF\n",
      "FFFH\n",
      "FFFG\n"
     ]
    }
   ],
   "source": [
    "env.reset()\n",
    "\n",
    "for _ in range(5):\n",
    "    action = env.action_space.sample() # take a random action\n",
    "    print(action_dict[action])\n",
    "    env.step(action)\n",
    "    env.render()\n",
    "    \n",
    "env.close()"
   ]
  },
  {
   "cell_type": "code",
   "execution_count": 10,
   "metadata": {},
   "outputs": [],
   "source": [
    "def run_episode(env, policy, gamma=1.0, render=False):\n",
    "    \"\"\" Evaluates policy by using it to run an episode and finding its total reward.\n",
    "    env: gym environment.\n",
    "    policy: the policy to be used.\n",
    "    gamma: discount factor.\n",
    "    render: boolean to turn rendering on/off.\n",
    "    total reward: real value of the total reward recieved by agent under policy.\n",
    "    \"\"\"\n",
    "    obs = env.reset()\n",
    "    total_reward = 0\n",
    "    step_idx = 0\n",
    "    while True:\n",
    "        if render:\n",
    "            env.render()\n",
    "        obs, reward, done , _ = env.step(int(policy[obs]))\n",
    "        total_reward += (gamma ** step_idx * reward)\n",
    "        step_idx += 1\n",
    "        if done:\n",
    "            break\n",
    "    return total_reward"
   ]
  },
  {
   "cell_type": "code",
   "execution_count": 11,
   "metadata": {},
   "outputs": [],
   "source": [
    "def evaluate_policy(env, policy, gamma=1.0,  n=100, render=False):\n",
    "    \"\"\" Evaluates a policy by running it n times.\n",
    "    returns: average total reward\n",
    "    \"\"\"\n",
    "    scores = [run_episode(env, policy, gamma=gamma, render=render)\n",
    "              for _ in range(n)]\n",
    "    return scores, np.mean(scores), np.std(scores)"
   ]
  },
  {
   "cell_type": "markdown",
   "metadata": {},
   "source": [
    "### Value Iteration"
   ]
  },
  {
   "cell_type": "code",
   "execution_count": 12,
   "metadata": {},
   "outputs": [
    {
     "data": {
      "text/plain": [
       "0"
      ]
     },
     "execution_count": 12,
     "metadata": {},
     "output_type": "execute_result"
    }
   ],
   "source": [
    "# Reset environment\n",
    "env.reset()"
   ]
  },
  {
   "cell_type": "code",
   "execution_count": 13,
   "metadata": {},
   "outputs": [],
   "source": [
    "def extract_policy_vi(value_table, gamma=1.0):\n",
    "    # Initialize the policy with zeros\n",
    "    policy = np.zeros(env.observation_space.n) \n",
    "    \n",
    "    for state in range(env.observation_space.n):\n",
    "        # Initialize the Q table for a state\n",
    "        Q_table = np.zeros(env.action_space.n)\n",
    "        \n",
    "        # Compute Q value for all ations in the state\n",
    "        for action in range(env.action_space.n):\n",
    "            for next_sr in env.P[state][action]: \n",
    "                trans_prob, next_state, reward_prob, _ = next_sr \n",
    "                Q_table[action] += (trans_prob * (reward_prob + gamma * value_table[next_state]))\n",
    "        \n",
    "        # Select the action which has maximum Q value as an optimal action of the state\n",
    "        policy[state] = np.argmax(Q_table)\n",
    "        \n",
    "    return policy"
   ]
  },
  {
   "cell_type": "code",
   "execution_count": 14,
   "metadata": {},
   "outputs": [],
   "source": [
    "def value_iteration(env, gamma=1.0, n_iters=10000, threshold=1e-20):\n",
    "    value_list = []\n",
    "    policy_list = []\n",
    "    times_list = []\n",
    "    rewards_list = []\n",
    "    start_time = time.process_time()\n",
    "    \n",
    "    # Initialize value table with zeros\n",
    "    value_table = np.zeros(env.observation_space.n)\n",
    "    \n",
    "    for i in range(n_iters):\n",
    "        # On each iteration, copy the value table to the updated_value_table\n",
    "        updated_value_table = np.copy(value_table) \n",
    "        \n",
    "        # Now we calculate Q Value for each actions in the state \n",
    "        # and update the value of a state with maximum Q value\n",
    "        for state in range(env.observation_space.n):\n",
    "            Q_value = []\n",
    "            for action in range(env.action_space.n):\n",
    "                next_states_rewards = []\n",
    "                for next_sr in env.P[state][action]:\n",
    "                    trans_prob, next_state, reward_prob, _ = next_sr \n",
    "                    next_states_rewards.append((trans_prob * (reward_prob + gamma * updated_value_table[next_state]))) \n",
    "                \n",
    "                Q_value.append(np.sum(next_states_rewards))\n",
    "                \n",
    "            value_table[state] = max(Q_value)\n",
    "        \n",
    "        value_list.append(np.array(value_table))\n",
    "        policy = extract_policy_vi(value_table, gamma=gamma)\n",
    "        policy_list.append(policy)\n",
    "        times_list.append(time.process_time() - start_time)\n",
    "        rewards_list.append(run_episode(env, policy, gamma=1.0, render=False))\n",
    "\n",
    "        if (np.sum(np.fabs(updated_value_table - value_table)) <= threshold):\n",
    "            print ('Value iteration converged after %d iterations.' %(i+1))\n",
    "            break\n",
    "            \n",
    "    return value_list, policy_list, times_list, rewards_list"
   ]
  },
  {
   "cell_type": "code",
   "execution_count": 15,
   "metadata": {},
   "outputs": [
    {
     "name": "stdout",
     "output_type": "stream",
     "text": [
      "Value iteration converged after 7 iterations.\n",
      "Wall time: 9.97 ms\n"
     ]
    }
   ],
   "source": [
    "%%time\n",
    "random.seed(42)\n",
    "np.random.seed(42)\n",
    "value_list_vi, policy_list_vi, times_list_vi, rewards_list_vi = value_iteration(env=env, gamma=0.9)\n",
    "\n",
    "optimal_policy_vi = policy_list_vi[-1]"
   ]
  },
  {
   "cell_type": "code",
   "execution_count": 16,
   "metadata": {},
   "outputs": [
    {
     "name": "stdout",
     "output_type": "stream",
     "text": [
      "Mean scores: 9.500 +/- 0.00\n"
     ]
    }
   ],
   "source": [
    "np.random.seed(42)\n",
    "scores_vi, mean_scores_vi, std_scores_vi = evaluate_policy(env, optimal_policy_vi, gamma=1.0, n=1000)\n",
    "print('Mean scores: %.3f +/- %.2f' % (mean_scores_vi, std_scores_vi))"
   ]
  },
  {
   "cell_type": "code",
   "execution_count": 17,
   "metadata": {},
   "outputs": [
    {
     "name": "stdout",
     "output_type": "stream",
     "text": [
      "⯆|⯇|⯆|⯇\n",
      "⯆|⯆|⯆|⯇\n",
      "⯆|⯆|⯆|⯇\n",
      "⯈|⯈|⯈|⯇\n"
     ]
    }
   ],
   "source": [
    "actions_list = []\n",
    "for i in optimal_policy_vi:\n",
    "    actions_list.append(action_dict[i])\n",
    "    \n",
    "policy = np.array(actions_list).reshape(int(env.nS**(1/2)), int(env.nS**(1/2)))\n",
    "\n",
    "for x in range(policy.shape[0]):\n",
    "    print(\"|\".join(\"%s\" % policy[x, f] for f in range(policy.shape[1])))"
   ]
  },
  {
   "cell_type": "markdown",
   "metadata": {},
   "source": [
    "### Policy Iteration"
   ]
  },
  {
   "cell_type": "code",
   "execution_count": 18,
   "metadata": {},
   "outputs": [
    {
     "data": {
      "text/plain": [
       "0"
      ]
     },
     "execution_count": 18,
     "metadata": {},
     "output_type": "execute_result"
    }
   ],
   "source": [
    "# Reset environment\n",
    "env.reset()"
   ]
  },
  {
   "cell_type": "code",
   "execution_count": 19,
   "metadata": {},
   "outputs": [],
   "source": [
    "def compute_value_function(policy, gamma=1.0):\n",
    "    # Initialize value table with zeros\n",
    "    value_table = np.zeros(env.nS)\n",
    "    \n",
    "    # Set the threshold\n",
    "    threshold = 1e-10\n",
    "    \n",
    "    while True:\n",
    "        # Copy the value table to the updated_value_table\n",
    "        updated_value_table = np.copy(value_table)\n",
    "\n",
    "        # For each state in the environment, select the action according to the policy and compute the value table\n",
    "        for state in range(env.nS):\n",
    "            action = policy[state]\n",
    "            \n",
    "            # Build the value table with the selected action\n",
    "            value_table[state] = sum([trans_prob * (reward_prob + gamma * updated_value_table[next_state])\n",
    "                        for trans_prob, next_state, reward_prob, _ in env.P[state][action]])\n",
    "            \n",
    "        if (np.sum((np.fabs(updated_value_table - value_table))) <= threshold):\n",
    "            break\n",
    "            \n",
    "    return value_table"
   ]
  },
  {
   "cell_type": "code",
   "execution_count": 20,
   "metadata": {},
   "outputs": [],
   "source": [
    "def extract_policy_pi(value_table, gamma=1.0):\n",
    "    # Initialize the policy with zeros\n",
    "    policy = np.zeros(env.observation_space.n)\n",
    "    \n",
    "    for state in range(env.observation_space.n):\n",
    "        # Initialize the Q table for a state\n",
    "        Q_table = np.zeros(env.action_space.n)\n",
    "        \n",
    "        # Compute Q value for all ations in the state\n",
    "        for action in range(env.action_space.n):\n",
    "            for next_sr in env.P[state][action]: \n",
    "                trans_prob, next_state, reward_prob, _ = next_sr \n",
    "                Q_table[action] += (trans_prob * (reward_prob + gamma * value_table[next_state]))\n",
    "        \n",
    "        # Select the action which has maximum Q value as an optimal action of the state\n",
    "        policy[state] = np.argmax(Q_table)\n",
    "    \n",
    "    return policy"
   ]
  },
  {
   "cell_type": "code",
   "execution_count": 21,
   "metadata": {},
   "outputs": [],
   "source": [
    "def policy_iteration(env, gamma=1.0, n_iters=10000):\n",
    "    value_list = []\n",
    "    policy_list = []\n",
    "    times_list = []\n",
    "    rewards_list = []\n",
    "    start_time = time.process_time()\n",
    "    \n",
    "    # Initialize policy with zeros\n",
    "    old_policy = np.zeros(env.observation_space.n)   \n",
    "    n_iters = 10000\n",
    "    \n",
    "    for i in range(n_iters):\n",
    "        \n",
    "        # Compute the value function\n",
    "        new_value_function = compute_value_function(old_policy, gamma)\n",
    "        \n",
    "        # Extract new policy from the computed value function\n",
    "        new_policy = extract_policy_pi(new_value_function, gamma)\n",
    "   \n",
    "        # Then we check whether we have reached convergence i.e whether we found the optimal\n",
    "        # policy by comparing old_policy and new policy if it same we will break the iteration\n",
    "        # else we update old_policy with new_policy\n",
    "\n",
    "        if (np.all(old_policy == new_policy)):\n",
    "            print ('Policy iteration converged after %d iterations.' %(i))\n",
    "            break\n",
    "            \n",
    "        old_policy = new_policy\n",
    "        \n",
    "        value_list.append(new_value_function)\n",
    "        policy_list.append(new_policy)\n",
    "        times_list.append(time.process_time() - start_time)\n",
    "        rewards_list.append(run_episode(env, new_policy, gamma=1.0, render=False))\n",
    "        \n",
    "    return value_list, policy_list, times_list, rewards_list"
   ]
  },
  {
   "cell_type": "code",
   "execution_count": 22,
   "metadata": {},
   "outputs": [
    {
     "name": "stdout",
     "output_type": "stream",
     "text": [
      "Policy iteration converged after 6 iterations.\n",
      "Wall time: 67.8 ms\n"
     ]
    }
   ],
   "source": [
    "%%time\n",
    "random.seed(42)\n",
    "np.random.seed(42)\n",
    "value_list_pi, policy_list_pi, times_list_pi, rewards_list_pi = policy_iteration(env, gamma=0.9)\n",
    "\n",
    "optimal_policy_pi = policy_list_pi[-1]"
   ]
  },
  {
   "cell_type": "code",
   "execution_count": 23,
   "metadata": {},
   "outputs": [
    {
     "data": {
      "text/plain": [
       "(6, 16)"
      ]
     },
     "execution_count": 23,
     "metadata": {},
     "output_type": "execute_result"
    }
   ],
   "source": [
    "policy_array = np.array(policy_list_pi)\n",
    "policy_array.shape"
   ]
  },
  {
   "cell_type": "code",
   "execution_count": 24,
   "metadata": {},
   "outputs": [
    {
     "name": "stdout",
     "output_type": "stream",
     "text": [
      "Mean scores: 9.500 +/- 0.00\n"
     ]
    }
   ],
   "source": [
    "np.random.seed(42)\n",
    "scores_pi, mean_scores_pi, std_scores_pi = evaluate_policy(env, optimal_policy_pi, gamma=1.0, n=1000)\n",
    "print('Mean scores: %.3f +/- %.2f' % (mean_scores_pi, std_scores_pi))"
   ]
  },
  {
   "cell_type": "code",
   "execution_count": 25,
   "metadata": {},
   "outputs": [
    {
     "name": "stdout",
     "output_type": "stream",
     "text": [
      "⯆|⯇|⯆|⯇\n",
      "⯆|⯆|⯆|⯇\n",
      "⯆|⯆|⯆|⯇\n",
      "⯈|⯈|⯈|⯇\n"
     ]
    }
   ],
   "source": [
    "actions_list = []\n",
    "for i in optimal_policy_pi:\n",
    "    actions_list.append(action_dict[i])\n",
    "\n",
    "policy = np.array(actions_list).reshape(int(env.nS**(1/2)), int(env.nS**(1/2)))\n",
    "for x in range(policy.shape[0]):\n",
    "    print(\"|\".join(\"%s\" % policy[x, f] for f in range(policy.shape[1])))"
   ]
  },
  {
   "cell_type": "markdown",
   "metadata": {},
   "source": [
    "### Q-Learning"
   ]
  },
  {
   "cell_type": "code",
   "execution_count": 26,
   "metadata": {},
   "outputs": [
    {
     "data": {
      "text/plain": [
       "0"
      ]
     },
     "execution_count": 26,
     "metadata": {},
     "output_type": "execute_result"
    }
   ],
   "source": [
    "# Reset environment\n",
    "env.reset()"
   ]
  },
  {
   "cell_type": "code",
   "execution_count": 27,
   "metadata": {},
   "outputs": [],
   "source": [
    "def update_Q_table(Q_table, prev_state, action, reward, next_state, alpha, gamma):\n",
    "    Q_next = max([Q_table[next_state][action] for action in range(env.action_space.n)])\n",
    "    Q_table[prev_state][action] += alpha * (reward + gamma * Q_next - Q_table[prev_state][action])\n",
    "    return Q_table"
   ]
  },
  {
   "cell_type": "code",
   "execution_count": 28,
   "metadata": {},
   "outputs": [],
   "source": [
    "def epsilon_greedy_policy(Q_table, state, epsilon):\n",
    "    if random.uniform(0, 1) < epsilon:\n",
    "        return env.action_space.sample()\n",
    "    else:\n",
    "        return max(list(range(env.action_space.n)), key=lambda x:Q_table[state][x])"
   ]
  },
  {
   "cell_type": "code",
   "execution_count": 29,
   "metadata": {},
   "outputs": [],
   "source": [
    "def Q_learning(env, n_iters=10000, alpha=1.0, gamma=0.9, epsilon=1.0, render=False, verbose=True, seed=42):\n",
    "    # Initialize Q table\n",
    "    Q_table = np.zeros((env.nS, env.action_space.n))\n",
    "    \n",
    "    Q_list = []\n",
    "    value_list = []\n",
    "    policy_list = []\n",
    "    times_list = []\n",
    "    rewards_list = []\n",
    "    start_time = time.process_time()\n",
    "    random.seed(seed)\n",
    "    \n",
    "    for i in range(1, n_iters+1):\n",
    "        r = 0\n",
    "        prev_state = env.reset()\n",
    "\n",
    "        while True:\n",
    "            if render:\n",
    "                env.render()\n",
    "            # In each state, we select the action by epsilon-greedy policy\n",
    "            action = epsilon_greedy_policy(Q_table, prev_state, epsilon)\n",
    "            # Decay random action rate epsilon\n",
    "            epsilon *= (n_iters-1)/(n_iters)\n",
    "\n",
    "            # then we perform the action and move to the next state, and receive the reward\n",
    "            next_state, reward, done, _ = env.step(action)\n",
    "\n",
    "            # Next we update the Q value using our update_Q_table function\n",
    "            # which updates the Q value by Q learning update rule\n",
    "            Q_table = update_Q_table(Q_table, prev_state, action, reward, next_state, alpha, gamma)\n",
    "            # Decay learning rate alpha\n",
    "            alpha *= (n_iters-1)/(n_iters)\n",
    "            # Set minimum alpha\n",
    "            alpha = max(0.005, alpha)\n",
    "\n",
    "            # Finally we update the previous state as next state\n",
    "            prev_state = next_state\n",
    "\n",
    "            # Store all the rewards obtained\n",
    "            r += reward\n",
    "\n",
    "            # We will break the loop, if we are at the terminal state of the episode\n",
    "            if done:\n",
    "                break\n",
    "        \n",
    "        if verbose:\n",
    "            if i % 10000 == 0 or i == n_iters:\n",
    "                print(\"Episode %d reward: %.2f\" % (i, r))\n",
    "        \n",
    "        Q_list.append(Q_table.copy())\n",
    "        value_list.append(np.max(Q_table.copy(), axis=1))\n",
    "        policy = np.argmax(Q_table, axis=1)\n",
    "        policy_list.append(policy)\n",
    "        times_list.append(time.process_time() - start_time)\n",
    "        rewards_list.append(run_episode(env, policy, gamma=1.0, render=False))\n",
    "\n",
    "    return Q_list, value_list, policy_list, times_list, rewards_list"
   ]
  },
  {
   "cell_type": "code",
   "execution_count": 30,
   "metadata": {},
   "outputs": [
    {
     "name": "stdout",
     "output_type": "stream",
     "text": [
      "Episode 10000 reward: -100.20\n",
      "Episode 20000 reward: -100.00\n",
      "Episode 30000 reward: 9.40\n",
      "Episode 40000 reward: 9.30\n",
      "Episode 50000 reward: 9.50\n",
      "Episode 60000 reward: 9.50\n",
      "Episode 70000 reward: 9.30\n",
      "Episode 80000 reward: 9.50\n",
      "Episode 90000 reward: 9.50\n",
      "Episode 100000 reward: 9.50\n",
      "Episode 110000 reward: 9.50\n",
      "Episode 120000 reward: 9.50\n",
      "Episode 130000 reward: 9.50\n",
      "Episode 140000 reward: 9.50\n",
      "Episode 150000 reward: 9.50\n",
      "Episode 160000 reward: 9.50\n",
      "Episode 170000 reward: 9.50\n",
      "Episode 180000 reward: 9.50\n",
      "Episode 190000 reward: 9.50\n",
      "Episode 200000 reward: 9.50\n",
      "Wall time: 35.5 s\n"
     ]
    }
   ],
   "source": [
    "%%time\n",
    "np.random.seed(42)\n",
    "Q_list_ql, value_list_ql, policy_list_ql, times_list_ql, rewards_list_ql = Q_learning(env, n_iters=200000, \n",
    "                                                                 alpha=1.0, gamma=0.9, \n",
    "                                                                 epsilon=1.0, \n",
    "                                                                 render=False, \n",
    "                                                                 verbose=True,\n",
    "                                                                 seed=42)"
   ]
  },
  {
   "cell_type": "code",
   "execution_count": 31,
   "metadata": {},
   "outputs": [
    {
     "data": {
      "text/plain": [
       "array([[   4.845851,    5.49539 , -100.      ,    4.845851],\n",
       "       [   0.      ,    0.      ,    0.      ,    0.      ],\n",
       "       [-100.      ,    7.019   ,    5.49539 ,    6.2171  ],\n",
       "       [   6.2171  ,    6.2171  ,    5.49539 ,    5.49539 ],\n",
       "       [   5.49539 ,    6.2171  ,    6.2171  ,    4.845851],\n",
       "       [   5.49539 ,    7.019   ,    7.019   , -100.      ],\n",
       "       [   6.2171  ,    7.91    ,    6.2171  ,    6.2171  ],\n",
       "       [   7.019   , -100.      ,    6.2171  ,    5.49539 ],\n",
       "       [   6.2171  ,    7.019   ,    7.019   ,    5.49539 ],\n",
       "       [   6.2171  ,    7.91    ,    7.91    ,    6.2171  ],\n",
       "       [   7.019   ,    8.9     , -100.      ,    7.019   ],\n",
       "       [   0.      ,    0.      ,    0.      ,    0.      ],\n",
       "       [   7.019   ,    7.019   ,    7.91    ,    6.2171  ],\n",
       "       [   7.019   ,    7.91    ,    8.9     ,    7.019   ],\n",
       "       [   7.91    ,    8.9     ,   10.      ,    7.91    ],\n",
       "       [   0.      ,    0.      ,    0.      ,    0.      ]])"
      ]
     },
     "execution_count": 31,
     "metadata": {},
     "output_type": "execute_result"
    }
   ],
   "source": [
    "Q_list_ql[-1]"
   ]
  },
  {
   "cell_type": "code",
   "execution_count": 32,
   "metadata": {},
   "outputs": [
    {
     "data": {
      "text/plain": [
       "False"
      ]
     },
     "execution_count": 32,
     "metadata": {},
     "output_type": "execute_result"
    }
   ],
   "source": [
    "np.all(Q_list_ql[-1] == Q_list_ql[0])"
   ]
  },
  {
   "cell_type": "code",
   "execution_count": 33,
   "metadata": {},
   "outputs": [
    {
     "data": {
      "text/plain": [
       "False"
      ]
     },
     "execution_count": 33,
     "metadata": {},
     "output_type": "execute_result"
    }
   ],
   "source": [
    "np.all(policy_list_ql[-1] == policy_list_ql[0])"
   ]
  },
  {
   "cell_type": "code",
   "execution_count": 34,
   "metadata": {},
   "outputs": [],
   "source": [
    "optimal_policy_ql = policy_list_ql[-1]"
   ]
  },
  {
   "cell_type": "code",
   "execution_count": 35,
   "metadata": {},
   "outputs": [
    {
     "name": "stdout",
     "output_type": "stream",
     "text": [
      "Mean scores: 9.500 +/- 0.00\n"
     ]
    }
   ],
   "source": [
    "random.seed(42)\n",
    "scoresql, mean_scores_ql, std_scores_ql = evaluate_policy(env, optimal_policy_ql, gamma=1.0, n=1000)\n",
    "print('Mean scores: %.3f +/- %.2f' % (mean_scores_ql, std_scores_ql))"
   ]
  },
  {
   "cell_type": "code",
   "execution_count": 36,
   "metadata": {},
   "outputs": [
    {
     "name": "stdout",
     "output_type": "stream",
     "text": [
      "⯆|⯇|⯆|⯇\n",
      "⯆|⯆|⯆|⯇\n",
      "⯆|⯆|⯆|⯇\n",
      "⯈|⯈|⯈|⯇\n"
     ]
    }
   ],
   "source": [
    "actions_list = []\n",
    "for i in optimal_policy_ql:\n",
    "    actions_list.append(action_dict[i])\n",
    "\n",
    "policy_ql = np.array(actions_list).reshape(int(env.nS**(1/2)), int(env.nS**(1/2)))\n",
    "for x in range(policy_ql.shape[0]):\n",
    "    print(\"|\".join(\"%s\" % policy_ql[x, f] for f in range(policy_ql.shape[1])))"
   ]
  },
  {
   "cell_type": "markdown",
   "metadata": {},
   "source": [
    "### Policy Check"
   ]
  },
  {
   "cell_type": "code",
   "execution_count": 37,
   "metadata": {},
   "outputs": [
    {
     "name": "stdout",
     "output_type": "stream",
     "text": [
      "VI and PI optimal policies are the same.\n"
     ]
    }
   ],
   "source": [
    "vi_pi = np.all(optimal_policy_vi == optimal_policy_pi)\n",
    "if vi_pi == False:\n",
    "    diff = np.sum(~(optimal_policy_vi == optimal_policy_pi))\n",
    "    print('VI and PI optimal policies differ by %d actions.' % diff)\n",
    "else: \n",
    "    print('VI and PI optimal policies are the same.')"
   ]
  },
  {
   "cell_type": "code",
   "execution_count": 38,
   "metadata": {},
   "outputs": [
    {
     "name": "stdout",
     "output_type": "stream",
     "text": [
      "VI and QL optimal policies are the same.\n"
     ]
    }
   ],
   "source": [
    "vi_ql = np.all(optimal_policy_vi == optimal_policy_ql)\n",
    "if vi_ql == False:\n",
    "    diff = np.sum(~(optimal_policy_vi == optimal_policy_ql))\n",
    "    print('VI and QL optimal policies differ by %d actions.' % diff)\n",
    "else: \n",
    "    print('VI and QL optimal policies are the same.')"
   ]
  },
  {
   "cell_type": "code",
   "execution_count": 39,
   "metadata": {},
   "outputs": [
    {
     "name": "stdout",
     "output_type": "stream",
     "text": [
      "PI and QL optimal policies are the same.\n"
     ]
    }
   ],
   "source": [
    "pi_ql = np.all(optimal_policy_pi == optimal_policy_ql)\n",
    "if pi_ql == False:\n",
    "    diff = np.sum(~(optimal_policy_pi == optimal_policy_ql))\n",
    "    print('PI and QL optimal policies differ by %d actions.' % diff)\n",
    "else: \n",
    "    print('PI and QL optimal policies are the same.')"
   ]
  },
  {
   "cell_type": "markdown",
   "metadata": {},
   "source": [
    "### Plotting"
   ]
  },
  {
   "cell_type": "code",
   "execution_count": 40,
   "metadata": {},
   "outputs": [],
   "source": [
    "def plot_frozen_lake(value_list, policy_list, increment, title, save_as, cbarlabel='Max Value'):\n",
    "    index = 1\n",
    "    last = 0\n",
    "    increment_list = []\n",
    "    for (V, pi) in zip(value_list[0:len(value_list)+1:increment]+[value_list[-1]], \n",
    "                       policy_list[0:len(policy_list)+1:increment]+[policy_list[-1]]):\n",
    "\n",
    "        plt.figure(figsize=(3,3))\n",
    "        im = plt.imshow(V.reshape(int(env.nS**(1/2)), int(env.nS**(1/2))), \n",
    "                   cmap='gray', interpolation='none', clim=(max(0, np.min(value_list)), np.max(value_list)))\n",
    "        ax = plt.gca()\n",
    "        ax.set_xticks(np.arange(int(env.nS**(1/2))+0.5)-0.5)\n",
    "        ax.set_yticks(np.arange(int(env.nS**(1/2))+0.5)-0.5)\n",
    "        ax.set_xticklabels([])\n",
    "        ax.set_yticklabels([])\n",
    "        \n",
    "         # Create colorbar\n",
    "#         cbar = ax.figure.colorbar(im, ax=ax)\n",
    "#         cbar.ax.set_ylabel(cbarlabel, rotation=-90, va=\"bottom\")\n",
    "        \n",
    "        Y, X = np.mgrid[0:int(env.nS**(1/2)), 0:int(env.nS**(1/2))]\n",
    "        a2uv = {0: (-1, 0), 1:(0, -1), 2:(1, 0), 3:(0, 1)}\n",
    "        Pi = pi.reshape(int(env.nS**(1/2)), int(env.nS**(1/2)))\n",
    "        for y in range(int(env.nS**(1/2))):\n",
    "            for x in range(int(env.nS**(1/2))):\n",
    "                a = Pi[y, x]\n",
    "                u, v = a2uv[a]\n",
    "                plt.arrow(x, y, u*.3, -v*.3, color='m', head_width=0.1, head_length=0.1)\n",
    "                plt.text(x, y, str(env.unwrapped.desc[y,x].item().decode()),\n",
    "                         color='g', size=12,  verticalalignment='center',\n",
    "                         horizontalalignment='center', fontweight='bold')\n",
    "        plt.grid(color='b', lw=2, ls='-')\n",
    "        plt.title((str(title) + ': step %d') %(index))\n",
    "        plt.tight_layout()\n",
    "        plt.savefig('figures/4x4/nonslippery/' + save_as + ' Step %d.png' %(index), dpi=300)\n",
    "        plt.show()\n",
    "        if last > 0:\n",
    "            break\n",
    "        if index+increment >= len(value_list):\n",
    "            index = len(value_list)\n",
    "            last += 1\n",
    "        else:\n",
    "            index += increment"
   ]
  },
  {
   "cell_type": "code",
   "execution_count": 41,
   "metadata": {},
   "outputs": [],
   "source": [
    "def plot_times(times_list, title=None, xlabel='# of Iterations', ylabel='Time (s)', \n",
    "               save_as=None):\n",
    "    plt.plot(range(1, len(times_list)+1), times_list, \n",
    "             marker='o', color='orange', linestyle=':', markersize=5)\n",
    "    plt.xlabel(xlabel)\n",
    "    plt.ylabel(ylabel)\n",
    "    plt.title(title)\n",
    "    plt.grid()\n",
    "    plt.tight_layout()\n",
    "    if save_as != None:\n",
    "        plt.savefig('./figures/' + save_as + '.png', dpi=300)\n",
    "    plt.show()"
   ]
  },
  {
   "cell_type": "code",
   "execution_count": 42,
   "metadata": {},
   "outputs": [],
   "source": [
    "def plot_rewards(rewards_list, title=None, xlabel='# of Iterations', ylabel='Policy Reward',\n",
    "                 save_as=None):\n",
    "    plt.plot(range(1, len(rewards_list)+1), rewards_list, \n",
    "             marker='o', color='purple', linestyle=':', markersize=5)\n",
    "    plt.xlabel(xlabel)\n",
    "    plt.ylabel(ylabel)\n",
    "    plt.title(title)\n",
    "    plt.grid()\n",
    "    plt.tight_layout()\n",
    "    if save_as != None:\n",
    "        plt.savefig('./figures/' + save_as + '.png', dpi=300)\n",
    "    plt.show()"
   ]
  },
  {
   "cell_type": "markdown",
   "metadata": {},
   "source": [
    "#### Value Iteration Plots"
   ]
  },
  {
   "cell_type": "code",
   "execution_count": 43,
   "metadata": {},
   "outputs": [
    {
     "data": {
      "image/png": "[encoded data removed]",
      "text/plain": [
       "<Figure size 216x216 with 1 Axes>"
      ]
     },
     "metadata": {
      "needs_background": "light"
     },
     "output_type": "display_data"
    },
    {
     "data": {
      "image/png": "[encoded data removed]",
      "text/plain": [
       "<Figure size 216x216 with 1 Axes>"
      ]
     },
     "metadata": {
      "needs_background": "light"
     },
     "output_type": "display_data"
    },
    {
     "data": {
      "image/png": "[encoded data removed]",
      "text/plain": [
       "<Figure size 216x216 with 1 Axes>"
      ]
     },
     "metadata": {
      "needs_background": "light"
     },
     "output_type": "display_data"
    },
    {
     "data": {
      "image/png": "[encoded data removed]",
      "text/plain": [
       "<Figure size 216x216 with 1 Axes>"
      ]
     },
     "metadata": {
      "needs_background": "light"
     },
     "output_type": "display_data"
    }
   ],
   "source": [
    "plot_frozen_lake(value_list_vi, policy_list_vi, increment=2, title='Value Iteration', save_as='VI/Value Iteration')"
   ]
  },
  {
   "cell_type": "code",
   "execution_count": 44,
   "metadata": {},
   "outputs": [
    {
     "data": {
      "image/png": "[encoded data removed]",
      "text/plain": [
       "<Figure size 432x288 with 1 Axes>"
      ]
     },
     "metadata": {
      "needs_background": "light"
     },
     "output_type": "display_data"
    }
   ],
   "source": [
    "plot_times(times_list_vi, title='Value Iteration Time', save_as='VI/4x4s_time')"
   ]
  },
  {
   "cell_type": "code",
   "execution_count": 45,
   "metadata": {},
   "outputs": [
    {
     "data": {
      "image/png": "[encoded data removed]",
      "text/plain": [
       "<Figure size 432x288 with 1 Axes>"
      ]
     },
     "metadata": {
      "needs_background": "light"
     },
     "output_type": "display_data"
    }
   ],
   "source": [
    "plot_rewards(rewards_list_vi, title='Value Iteration Reward', save_as='VI/4x4s_reward')"
   ]
  },
  {
   "cell_type": "markdown",
   "metadata": {},
   "source": [
    "#### Policy Iteration Plots"
   ]
  },
  {
   "cell_type": "code",
   "execution_count": 46,
   "metadata": {},
   "outputs": [
    {
     "data": {
      "image/png": "[encoded data removed]",
      "text/plain": [
       "<Figure size 216x216 with 1 Axes>"
      ]
     },
     "metadata": {
      "needs_background": "light"
     },
     "output_type": "display_data"
    },
    {
     "data": {
      "image/png": "[encoded data removed]",
      "text/plain": [
       "<Figure size 216x216 with 1 Axes>"
      ]
     },
     "metadata": {
      "needs_background": "light"
     },
     "output_type": "display_data"
    },
    {
     "data": {
      "image/png": "[encoded data removed]",
      "text/plain": [
       "<Figure size 216x216 with 1 Axes>"
      ]
     },
     "metadata": {
      "needs_background": "light"
     },
     "output_type": "display_data"
    },
    {
     "data": {
      "image/png": "[encoded data removed]",
      "text/plain": [
       "<Figure size 216x216 with 1 Axes>"
      ]
     },
     "metadata": {
      "needs_background": "light"
     },
     "output_type": "display_data"
    }
   ],
   "source": [
    "plot_frozen_lake(value_list_pi, policy_list_pi, increment=2, title='Policy Iteration', save_as='PI/Policy Iteration')"
   ]
  },
  {
   "cell_type": "code",
   "execution_count": 47,
   "metadata": {},
   "outputs": [
    {
     "data": {
      "image/png": "[encoded data removed]",
      "text/plain": [
       "<Figure size 432x288 with 1 Axes>"
      ]
     },
     "metadata": {
      "needs_background": "light"
     },
     "output_type": "display_data"
    }
   ],
   "source": [
    "plot_times(times_list_pi, title='Policy Iteration Time', save_as='PI/4x4s_time')"
   ]
  },
  {
   "cell_type": "code",
   "execution_count": 48,
   "metadata": {},
   "outputs": [
    {
     "data": {
      "image/png": "[encoded data removed]",
      "text/plain": [
       "<Figure size 432x288 with 1 Axes>"
      ]
     },
     "metadata": {
      "needs_background": "light"
     },
     "output_type": "display_data"
    }
   ],
   "source": [
    "plot_rewards(rewards_list_pi, title='Policy Iteration Reward', save_as='PI/4x4s_reward')"
   ]
  },
  {
   "cell_type": "markdown",
   "metadata": {},
   "source": [
    "#### Q-Learning Plots"
   ]
  },
  {
   "cell_type": "code",
   "execution_count": 49,
   "metadata": {},
   "outputs": [
    {
     "data": {
      "image/png": "[encoded data removed]",
      "text/plain": [
       "<Figure size 216x216 with 1 Axes>"
      ]
     },
     "metadata": {
      "needs_background": "light"
     },
     "output_type": "display_data"
    },
    {
     "data": {
      "image/png": "[encoded data removed]",
      "text/plain": [
       "<Figure size 216x216 with 1 Axes>"
      ]
     },
     "metadata": {
      "needs_background": "light"
     },
     "output_type": "display_data"
    },
    {
     "data": {
      "image/png": "[encoded data removed]",
      "text/plain": [
       "<Figure size 216x216 with 1 Axes>"
      ]
     },
     "metadata": {
      "needs_background": "light"
     },
     "output_type": "display_data"
    },
    {
     "data": {
      "image/png": "[encoded data removed]",
      "text/plain": [
       "<Figure size 216x216 with 1 Axes>"
      ]
     },
     "metadata": {
      "needs_background": "light"
     },
     "output_type": "display_data"
    },
    {
     "data": {
      "image/png": "[encoded data removed]",
      "text/plain": [
       "<Figure size 216x216 with 1 Axes>"
      ]
     },
     "metadata": {
      "needs_background": "light"
     },
     "output_type": "display_data"
    },
    {
     "data": {
      "image/png": "[encoded data removed]",
      "text/plain": [
       "<Figure size 216x216 with 1 Axes>"
      ]
     },
     "metadata": {
      "needs_background": "light"
     },
     "output_type": "display_data"
    },
    {
     "data": {
      "image/png": "[encoded data removed]",
      "text/plain": [
       "<Figure size 216x216 with 1 Axes>"
      ]
     },
     "metadata": {
      "needs_background": "light"
     },
     "output_type": "display_data"
    },
    {
     "data": {
      "image/png": "[encoded data removed]",
      "text/plain": [
       "<Figure size 216x216 with 1 Axes>"
      ]
     },
     "metadata": {
      "needs_background": "light"
     },
     "output_type": "display_data"
    },
    {
     "data": {
      "image/png": "[encoded data removed]",
      "text/plain": [
       "<Figure size 216x216 with 1 Axes>"
      ]
     },
     "metadata": {
      "needs_background": "light"
     },
     "output_type": "display_data"
    }
   ],
   "source": [
    "plot_frozen_lake(value_list_ql, policy_list_ql, increment=25000, title='Q-Learning', save_as='QL/Q-Learning')"
   ]
  },
  {
   "cell_type": "code",
   "execution_count": 50,
   "metadata": {},
   "outputs": [
    {
     "data": {
      "image/png": "[encoded data removed]",
      "text/plain": [
       "<Figure size 432x288 with 1 Axes>"
      ]
     },
     "metadata": {
      "needs_background": "light"
     },
     "output_type": "display_data"
    }
   ],
   "source": [
    "plot_times(times_list_ql[:50000:1000], title='Q-Learning Time', xlabel='# of Iterations (1000)', save_as='QL/4x4s_time')"
   ]
  },
  {
   "cell_type": "code",
   "execution_count": 51,
   "metadata": {},
   "outputs": [
    {
     "data": {
      "image/png": "[encoded data removed]",
      "text/plain": [
       "<Figure size 432x288 with 1 Axes>"
      ]
     },
     "metadata": {
      "needs_background": "light"
     },
     "output_type": "display_data"
    }
   ],
   "source": [
    "plot_rewards(rewards_list_ql[:50000:1000], title='Q-Learning Reward', xlabel='# of Iterations (1000)', save_as='QL/4x4s_reward')"
   ]
  },
  {
   "cell_type": "code",
   "execution_count": null,
   "metadata": {},
   "outputs": [],
   "source": []
  }
 ],
 "metadata": {
  "kernelspec": {
   "display_name": "Python 3",
   "language": "python",
   "name": "python3"
  },
  "language_info": {
   "codemirror_mode": {
    "name": "ipython",
    "version": 3
   },
   "file_extension": ".py",
   "mimetype": "text/x-python",
   "name": "python",
   "nbconvert_exporter": "python",
   "pygments_lexer": "ipython3",
   "version": "3.7.4"
  }
 },
 "nbformat": 4,
 "nbformat_minor": 2
}
