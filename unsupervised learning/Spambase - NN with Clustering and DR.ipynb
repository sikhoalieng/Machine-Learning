{
 "cells": [
  {
   "cell_type": "markdown",
   "metadata": {},
   "source": [
    "### Import libraries"
   ]
  },
  {
   "cell_type": "code",
   "execution_count": 1,
   "metadata": {},
   "outputs": [],
   "source": [
    "# Ignore future warnings\n",
    "import warnings\n",
    "warnings.simplefilter(action='ignore', category=FutureWarning)\n",
    "\n",
    "from matplotlib.axes._axes import _log as matplotlib_axes_logger\n",
    "matplotlib_axes_logger.setLevel('ERROR')"
   ]
  },
  {
   "cell_type": "code",
   "execution_count": 2,
   "metadata": {},
   "outputs": [],
   "source": [
    "# Pandas\n",
    "import pandas as pd\n",
    "\n",
    "# Numpy\n",
    "import numpy as np\n",
    "\n",
    "# Plotting\n",
    "import matplotlib.pyplot as plt\n",
    "from matplotlib.colors import ListedColormap\n",
    "from matplotlib import cm\n",
    "\n",
    "# Preprocessing\n",
    "from sklearn.preprocessing import StandardScaler"
   ]
  },
  {
   "cell_type": "code",
   "execution_count": 3,
   "metadata": {},
   "outputs": [],
   "source": [
    "# Learning algorithms\n",
    "from sklearn.neural_network import MLPClassifier\n",
    "from sklearn.ensemble import RandomForestClassifier\n",
    "\n",
    "# Pipeline\n",
    "from sklearn.pipeline import Pipeline\n",
    "\n",
    "# Model Selection\n",
    "from sklearn.model_selection import train_test_split\n",
    "from sklearn.model_selection import StratifiedKFold\n",
    "from sklearn.model_selection import GridSearchCV\n",
    "from sklearn.model_selection import cross_val_score\n",
    "from sklearn.model_selection import learning_curve\n",
    "from sklearn.model_selection import validation_curve\n",
    "\n",
    "# Metrics\n",
    "from sklearn.metrics import roc_curve\n",
    "from sklearn.metrics import auc\n",
    "from sklearn.metrics import roc_auc_score\n",
    "from sklearn.metrics import make_scorer\n",
    "from sklearn.metrics import silhouette_samples\n",
    "\n",
    "# Dimensionality reduction\n",
    "from sklearn.decomposition import PCA\n",
    "from sklearn.decomposition import KernelPCA\n",
    "from sklearn.decomposition import FastICA\n",
    "from sklearn.random_projection import GaussianRandomProjection # Randomized Projections\n",
    "from sklearn.discriminant_analysis import LinearDiscriminantAnalysis # LDA\n",
    "\n",
    "# Clustering\n",
    "from sklearn.cluster import KMeans\n",
    "from sklearn.mixture import GaussianMixture # Expectation Maximization"
   ]
  },
  {
   "cell_type": "markdown",
   "metadata": {},
   "source": [
    "### Load Data"
   ]
  },
  {
   "cell_type": "code",
   "execution_count": 4,
   "metadata": {},
   "outputs": [],
   "source": [
    "spambase_df = pd.read_csv('./data/spambase.data', header=None, error_bad_lines=False)\n",
    "\n",
    "# Full Data\n",
    "X = spambase_df.iloc[:, :-1].values\n",
    "y = spambase_df.iloc[:, -1].values\n",
    "\n",
    "# Split data into train and test\n",
    "X_train, X_test, y_train, y_test = \\\n",
    "    train_test_split(X, y, test_size=0.25, random_state=42)"
   ]
  },
  {
   "cell_type": "markdown",
   "metadata": {},
   "source": [
    "### Plotting Functions"
   ]
  },
  {
   "cell_type": "code",
   "execution_count": 5,
   "metadata": {},
   "outputs": [],
   "source": [
    "def plot_variance(var_exp, cum_var_exp, title=None, save_as=None):\n",
    "    plt.bar(range(1, len(var_exp)+1), var_exp, alpha=0.5, align='center',\n",
    "            label='individual explained variance')\n",
    "    plt.step(range(1, len(var_exp)+1), cum_var_exp, where='mid',\n",
    "             label='cumulative explained variance')\n",
    "    plt.ylabel('Explained Variance Ratio')\n",
    "    plt.xlabel('Principal Components')\n",
    "    plt.legend(loc='best')\n",
    "    plt.title(title)\n",
    "    plt.tight_layout()\n",
    "    if save_as != None:\n",
    "        plt.savefig('./figures/' + save_as + '.png', dpi=300)\n",
    "    plt.show()"
   ]
  },
  {
   "cell_type": "code",
   "execution_count": 6,
   "metadata": {},
   "outputs": [],
   "source": [
    "def plot_decision_regions(X, y, classifier, resolution=0.02, title=None, save_as=None):\n",
    "    # Setup marker generator and color map\n",
    "    markers = ('s', 'x', 'o', '^', 'v')\n",
    "    colors = ('red', 'blue', 'lightgreen', 'gray', 'cyan')\n",
    "    cmap = ListedColormap(colors[:len(np.unique(y))])\n",
    "\n",
    "    # Plot the decision surface\n",
    "    x1_min, x1_max = X[:, 0].min() - 1, X[:, 0].max() + 1\n",
    "    x2_min, x2_max = X[:, 1].min() - 1, X[:, 1].max() + 1\n",
    "    xx1, xx2 = np.meshgrid(np.arange(x1_min, x1_max, resolution),\n",
    "                           np.arange(x2_min, x2_max, resolution))\n",
    "    Z = classifier.predict(np.array([xx1.ravel(), xx2.ravel()]).T)\n",
    "    Z = Z.reshape(xx1.shape)\n",
    "    plt.contourf(xx1, xx2, Z, alpha=0.4, cmap=cmap)\n",
    "    plt.xlim(xx1.min(), xx1.max())\n",
    "    plt.ylim(xx2.min(), xx2.max())\n",
    "    plt.title(title)\n",
    "    # Plot class samples\n",
    "    for idx, cl in enumerate(np.unique(y)):\n",
    "        plt.scatter(x=X[y == cl, 0], \n",
    "                    y=X[y == cl, 1],\n",
    "                    alpha=0.6, \n",
    "                    c=cmap(idx),\n",
    "                    edgecolor='black',\n",
    "                    marker=markers[idx], \n",
    "                    label=cl)\n",
    "    plt.tight_layout()\n",
    "    if save_as != None:\n",
    "        plt.savefig('./figures/' + save_as + '.png', dpi=300)\n",
    "    plt.show()"
   ]
  },
  {
   "cell_type": "code",
   "execution_count": 7,
   "metadata": {},
   "outputs": [],
   "source": [
    "def plot_elbow_distortions(max_clusters, X, title=None, save_as=None):\n",
    "    distortions = []\n",
    "    for i in range(1, max_clusters+1):\n",
    "        km = KMeans(n_clusters=i, \n",
    "                    init='k-means++', \n",
    "                    n_init=10, \n",
    "                    max_iter=300, \n",
    "                    random_state=42)\n",
    "        km.fit(X)\n",
    "        distortions.append(km.inertia_)\n",
    "    plt.plot(range(1, max_clusters+1), distortions, marker='o')\n",
    "    plt.xlabel('Number of clusters')\n",
    "    plt.ylabel('Distortion')\n",
    "    plt.title(title)\n",
    "    plt.tight_layout()\n",
    "    if save_as != None:\n",
    "        plt.savefig('./figures/' + save_as + '.png', dpi=300)\n",
    "    plt.show()"
   ]
  },
  {
   "cell_type": "code",
   "execution_count": 8,
   "metadata": {},
   "outputs": [],
   "source": [
    "def plot_elbow_bic(max_components, X, title=None, save_as=None):\n",
    "    bic = []\n",
    "    for i in range(1, max_components+1):\n",
    "        gmm = GaussianMixture(n_components=i, \n",
    "                              covariance_type='full',\n",
    "                              reg_covar=1e-06, \n",
    "                              max_iter=100, \n",
    "                              n_init=1, \n",
    "                              init_params='kmeans',\n",
    "                              random_state=42)\n",
    "        gmm.fit(X)\n",
    "        bic.append(gmm.bic(X))\n",
    "    plt.plot(range(1, max_components+1), bic, marker='s')\n",
    "    plt.xlabel('Number of Components')\n",
    "    plt.ylabel('Bayesian Information Criterion')\n",
    "    plt.title(title)\n",
    "    plt.tight_layout()\n",
    "    if save_as != None:\n",
    "        plt.savefig('./figures/' + save_as + '.png', dpi=300)\n",
    "    plt.show()"
   ]
  },
  {
   "cell_type": "code",
   "execution_count": 9,
   "metadata": {},
   "outputs": [],
   "source": [
    "def plot_silhouette(km, X, title=None, save_as=None):\n",
    "    y_km = km.predict(X)\n",
    "    cluster_labels = np.unique(y_km)\n",
    "    n_clusters = cluster_labels.shape[0]\n",
    "    silhouette_vals = silhouette_samples(X, y_km, metric='euclidean')\n",
    "    y_ax_lower, y_ax_upper = 0, 0\n",
    "    yticks = []\n",
    "    for i, c in enumerate(cluster_labels):\n",
    "        c_silhouette_vals = silhouette_vals[y_km == c]\n",
    "        c_silhouette_vals.sort()\n",
    "        y_ax_upper += len(c_silhouette_vals)\n",
    "        color = cm.jet(float(i) / n_clusters)\n",
    "        plt.barh(range(y_ax_lower, y_ax_upper), c_silhouette_vals, height=1.0, \n",
    "                 edgecolor='none', color=color)\n",
    "\n",
    "        yticks.append((y_ax_lower + y_ax_upper) / 2.)\n",
    "        y_ax_lower += len(c_silhouette_vals)\n",
    "\n",
    "    silhouette_avg = np.mean(silhouette_vals)\n",
    "    plt.axvline(silhouette_avg, color=\"orange\", linestyle=\"--\") \n",
    "\n",
    "    plt.yticks(yticks, cluster_labels + 1)\n",
    "    plt.ylabel('Cluster')\n",
    "    plt.xlabel('Silhouette Coefficient')\n",
    "    plt.title(title)\n",
    "    plt.tight_layout()\n",
    "    if save_as != None:\n",
    "        plt.savefig('./figures/' + save_as + '.png', dpi=300)\n",
    "    plt.show()"
   ]
  },
  {
   "cell_type": "code",
   "execution_count": 10,
   "metadata": {},
   "outputs": [],
   "source": [
    "def plot_kmeans(km, X, xlim=None, ylim=None, title=None, save_as=None):\n",
    "    y_km = km.predict(X)\n",
    "    colors = ('lightgreen', 'purple', 'blue', 'orange')\n",
    "    markers = ('s', 'o', 'v', 'p')\n",
    "    for i in range(0, km.n_clusters):\n",
    "        plt.scatter(X[y_km == i, 0],\n",
    "                    X[y_km == i, 1],\n",
    "                    s=50, c=colors[i],\n",
    "                    marker=markers[i], edgecolor='black',\n",
    "                    label='cluster '+str(i+1))\n",
    "    plt.scatter(km.cluster_centers_[:, 0],\n",
    "                km.cluster_centers_[:, 1],\n",
    "                s=250, marker='*',\n",
    "                c='red', edgecolor='black',\n",
    "                label='centroids')\n",
    "    \n",
    "    plt.legend(scatterpoints=1)\n",
    "    plt.grid()\n",
    "    plt.xlim(xlim)\n",
    "    plt.ylim(ylim)\n",
    "    plt.title(title)\n",
    "    plt.tight_layout()\n",
    "    if save_as != None:\n",
    "        plt.savefig('./figures/' + save_as + '.png', dpi=300)\n",
    "    plt.show()"
   ]
  },
  {
   "cell_type": "code",
   "execution_count": 11,
   "metadata": {},
   "outputs": [],
   "source": [
    "def plot_gmm(gmm, X, index, xlim=None, ylim=None, title=None, save_as=None):\n",
    "    import itertools\n",
    "    from scipy import linalg\n",
    "    import matplotlib as mpl\n",
    "    \n",
    "    y_gmm = gmm.predict(X)\n",
    "    color_iter = itertools.cycle(['green', 'blue', 'orange', 'purple'])\n",
    "    means = gmm.means_\n",
    "    covariances = gmm.covariances_\n",
    "    for i, (mean, covar, color) in enumerate(zip(\n",
    "            means, covariances, color_iter)):\n",
    "        v, w = linalg.eigh(covar)\n",
    "        v = 2. * np.sqrt(2.) * np.sqrt(v)\n",
    "        u = w[0] / linalg.norm(w[0])\n",
    "        # as the DP will not use every component it has access to\n",
    "        # unless it needs it, we shouldn't plot the redundant\n",
    "        # components.\n",
    "        if not np.any(y_gmm == i):\n",
    "            continue\n",
    "        plt.scatter(X[y_gmm == i, 0], X[y_gmm == i, 1], color=color)\n",
    "\n",
    "        # Plot an ellipse to show the Gaussian component\n",
    "        angle = np.arctan(u[1] / u[0])\n",
    "        angle = 180. * angle / np.pi  # convert to degrees\n",
    "        ell = mpl.patches.Ellipse(mean, v[0], v[1], 180. + angle, color=color)\n",
    "        ell.set_alpha(0.5)\n",
    "\n",
    "    plt.grid()\n",
    "    plt.xlim(xlim)\n",
    "    plt.ylim(ylim)\n",
    "    plt.title(title)\n",
    "    plt.tight_layout()\n",
    "    if save_as != None:\n",
    "        plt.savefig('./figures/' + save_as + '.png', dpi=300)\n",
    "    plt.show()"
   ]
  },
  {
   "cell_type": "code",
   "execution_count": 12,
   "metadata": {},
   "outputs": [],
   "source": [
    "def plot_discriminability(eigen_vals, ylim=None, save_as=None):\n",
    "    tot = sum(eigen_vals.real)\n",
    "    discr = [(i / tot) for i in sorted(eigen_vals.real, reverse=True)]\n",
    "    cum_discr = np.cumsum(discr)\n",
    "\n",
    "    plt.bar(range(0, len(eigen_vals)), discr, alpha=0.5, align='center',\n",
    "            label='individual class-discriminatory information ratio')\n",
    "    plt.step(range(0, len(eigen_vals)), cum_discr, where='mid',\n",
    "             label='cumulative class-discriminatory information ratio')\n",
    "    plt.ylabel('Class-discriminatory Information Ratio')\n",
    "    plt.xlabel('Linear Discriminants')\n",
    "    plt.ylim(ylim)\n",
    "    plt.legend(loc='best')\n",
    "    plt.tight_layout()\n",
    "    if save_as != None:\n",
    "        plt.savefig('./figures/' + save_as + '.png', dpi=300)\n",
    "    plt.show()"
   ]
  },
  {
   "cell_type": "code",
   "execution_count": 13,
   "metadata": {},
   "outputs": [],
   "source": [
    "train_auc_list = []\n",
    "test_auc_list = []"
   ]
  },
  {
   "cell_type": "markdown",
   "metadata": {},
   "source": [
    "## Clustering Algorithms"
   ]
  },
  {
   "cell_type": "markdown",
   "metadata": {},
   "source": [
    "### K-Means"
   ]
  },
  {
   "cell_type": "code",
   "execution_count": 14,
   "metadata": {},
   "outputs": [
    {
     "data": {
      "image/png": "[encoded data removed]",
      "text/plain": [
       "<Figure size 432x288 with 1 Axes>"
      ]
     },
     "metadata": {
      "needs_background": "light"
     },
     "output_type": "display_data"
    }
   ],
   "source": [
    "# Elbow around k=4\n",
    "plot_elbow_distortions(max_clusters=20, X=X_train, title='K-means Elbow Plot', save_as='Spambase/kmeans_elbow_plot')"
   ]
  },
  {
   "cell_type": "code",
   "execution_count": 15,
   "metadata": {},
   "outputs": [],
   "source": [
    "kmeans = KMeans(n_clusters=4, init='k-means++', \n",
    "                n_init=10, max_iter=300, verbose=0, \n",
    "                random_state=42, n_jobs=-1,\n",
    "                algorithm='auto')"
   ]
  },
  {
   "cell_type": "code",
   "execution_count": 16,
   "metadata": {},
   "outputs": [
    {
     "name": "stdout",
     "output_type": "stream",
     "text": [
      "Wall time: 2.6 s\n"
     ]
    },
    {
     "data": {
      "text/plain": [
       "KMeans(algorithm='auto', copy_x=True, init='k-means++', max_iter=300,\n",
       "       n_clusters=4, n_init=10, n_jobs=-1, precompute_distances='auto',\n",
       "       random_state=42, tol=0.0001, verbose=0)"
      ]
     },
     "execution_count": 16,
     "metadata": {},
     "output_type": "execute_result"
    }
   ],
   "source": [
    "%%time\n",
    "kmeans.fit(X_train)"
   ]
  },
  {
   "cell_type": "code",
   "execution_count": 17,
   "metadata": {},
   "outputs": [],
   "source": [
    "X_train_kmeans = kmeans.predict(X_train).reshape(-1, 1)\n",
    "X_test_kmeans = kmeans.predict(X_test).reshape(-1, 1)"
   ]
  },
  {
   "cell_type": "code",
   "execution_count": 18,
   "metadata": {},
   "outputs": [
    {
     "name": "stdout",
     "output_type": "stream",
     "text": [
      "Wall time: 449 ms\n"
     ]
    },
    {
     "data": {
      "text/plain": [
       "Pipeline(memory=None,\n",
       "         steps=[('scl',\n",
       "                 StandardScaler(copy=True, with_mean=True, with_std=True)),\n",
       "                ('clf',\n",
       "                 MLPClassifier(activation='relu', alpha=0.0001,\n",
       "                               batch_size='auto', beta_1=0.9, beta_2=0.999,\n",
       "                               early_stopping=False, epsilon=1e-08,\n",
       "                               hidden_layer_sizes=(120,),\n",
       "                               learning_rate='constant',\n",
       "                               learning_rate_init=0.001, max_iter=1000,\n",
       "                               momentum=0.9, n_iter_no_change=10,\n",
       "                               nesterovs_momentum=True, power_t=0.5,\n",
       "                               random_state=42, shuffle=True, solver='adam',\n",
       "                               tol=0.0001, validation_fraction=0.1,\n",
       "                               verbose=False, warm_start=False))],\n",
       "         verbose=False)"
      ]
     },
     "execution_count": 18,
     "metadata": {},
     "output_type": "execute_result"
    }
   ],
   "source": [
    "%%time\n",
    "# Kmeans data only\n",
    "pipe_mlp = Pipeline([('scl', StandardScaler()),\n",
    "                     ('clf', MLPClassifier(max_iter=1000, \n",
    "                                           activation='relu', \n",
    "                                           solver='adam', \n",
    "                                           hidden_layer_sizes=(120,), \n",
    "                                           random_state=42))])\n",
    "\n",
    "pipe_mlp.fit(X_train_kmeans, y_train)"
   ]
  },
  {
   "cell_type": "code",
   "execution_count": 19,
   "metadata": {},
   "outputs": [
    {
     "name": "stdout",
     "output_type": "stream",
     "text": [
      "Train Accuracy: 0.668\n",
      "Test Accuracy: 0.637\n",
      "Train AUC: 0.590\n",
      "Test AUC: 0.576\n"
     ]
    }
   ],
   "source": [
    "print('Train Accuracy: %.3f' % pipe_mlp.score(X_train_kmeans, y_train))\n",
    "print('Test Accuracy: %.3f' % pipe_mlp.score(X_test_kmeans, y_test))\n",
    "\n",
    "y_pred = pipe_mlp.predict(X_train_kmeans)\n",
    "print('Train AUC: %.3f' % roc_auc_score(y_train, y_pred))\n",
    "train_auc_list.append(roc_auc_score(y_train, y_pred))\n",
    "\n",
    "y_pred = pipe_mlp.predict(X_test_kmeans)\n",
    "print('Test AUC: %.3f' % roc_auc_score(y_test, y_pred))\n",
    "test_auc_list.append(roc_auc_score(y_test, y_pred))"
   ]
  },
  {
   "cell_type": "code",
   "execution_count": 20,
   "metadata": {},
   "outputs": [],
   "source": [
    "X_train_kmeans_combined = np.concatenate([X_train, X_train_kmeans], axis=1)\n",
    "X_test_kmeans_combined = np.concatenate([X_test, X_test_kmeans], axis=1)"
   ]
  },
  {
   "cell_type": "code",
   "execution_count": 21,
   "metadata": {},
   "outputs": [
    {
     "name": "stdout",
     "output_type": "stream",
     "text": [
      "Wall time: 7.9 s\n"
     ]
    },
    {
     "data": {
      "text/plain": [
       "Pipeline(memory=None,\n",
       "         steps=[('scl',\n",
       "                 StandardScaler(copy=True, with_mean=True, with_std=True)),\n",
       "                ('clf',\n",
       "                 MLPClassifier(activation='relu', alpha=0.0001,\n",
       "                               batch_size='auto', beta_1=0.9, beta_2=0.999,\n",
       "                               early_stopping=False, epsilon=1e-08,\n",
       "                               hidden_layer_sizes=(120,),\n",
       "                               learning_rate='constant',\n",
       "                               learning_rate_init=0.001, max_iter=1000,\n",
       "                               momentum=0.9, n_iter_no_change=10,\n",
       "                               nesterovs_momentum=True, power_t=0.5,\n",
       "                               random_state=42, shuffle=True, solver='adam',\n",
       "                               tol=0.0001, validation_fraction=0.1,\n",
       "                               verbose=False, warm_start=False))],\n",
       "         verbose=False)"
      ]
     },
     "execution_count": 21,
     "metadata": {},
     "output_type": "execute_result"
    }
   ],
   "source": [
    "%%time\n",
    "# Kmeans combined with original data\n",
    "pipe_mlp = Pipeline([('scl', StandardScaler()),\n",
    "                     ('clf', MLPClassifier(max_iter=1000, \n",
    "                                           activation='relu', \n",
    "                                           solver='adam', \n",
    "                                           hidden_layer_sizes=(120,), \n",
    "                                           random_state=42))])\n",
    "\n",
    "pipe_mlp.fit(X_train_kmeans_combined, y_train)"
   ]
  },
  {
   "cell_type": "code",
   "execution_count": 22,
   "metadata": {},
   "outputs": [
    {
     "name": "stdout",
     "output_type": "stream",
     "text": [
      "Train Accuracy: 0.994\n",
      "Test Accuracy: 0.960\n",
      "Train AUC: 0.993\n",
      "Test AUC: 0.957\n"
     ]
    }
   ],
   "source": [
    "print('Train Accuracy: %.3f' % pipe_mlp.score(X_train_kmeans_combined, y_train))\n",
    "print('Test Accuracy: %.3f' % pipe_mlp.score(X_test_kmeans_combined, y_test))\n",
    "\n",
    "y_pred = pipe_mlp.predict(X_train_kmeans_combined)\n",
    "print('Train AUC: %.3f' % roc_auc_score(y_train, y_pred))\n",
    "train_auc_list.append(roc_auc_score(y_train, y_pred))\n",
    "\n",
    "y_pred = pipe_mlp.predict(X_test_kmeans_combined)\n",
    "print('Test AUC: %.3f' % roc_auc_score(y_test, y_pred))\n",
    "test_auc_list.append(roc_auc_score(y_test, y_pred))"
   ]
  },
  {
   "cell_type": "code",
   "execution_count": 23,
   "metadata": {},
   "outputs": [
    {
     "data": {
      "image/png": "[encoded data removed]",
      "text/plain": [
       "<Figure size 432x288 with 1 Axes>"
      ]
     },
     "metadata": {
      "needs_background": "light"
     },
     "output_type": "display_data"
    }
   ],
   "source": [
    "plot_silhouette(km=kmeans, X=X_train, title='K-means Silhouette Plot', save_as='Spambase/silhouette_plot')"
   ]
  },
  {
   "cell_type": "markdown",
   "metadata": {},
   "source": [
    "### Expectation Maximization (Gaussian Mixture)"
   ]
  },
  {
   "cell_type": "code",
   "execution_count": 24,
   "metadata": {},
   "outputs": [
    {
     "data": {
      "image/png": "[encoded data removed]",
      "text/plain": [
       "<Figure size 432x288 with 1 Axes>"
      ]
     },
     "metadata": {
      "needs_background": "light"
     },
     "output_type": "display_data"
    }
   ],
   "source": [
    "plot_elbow_bic(max_components=20, X=X_train, title='EM BIC Plot', save_as='Spambase/EM_BIC_plot')"
   ]
  },
  {
   "cell_type": "code",
   "execution_count": 25,
   "metadata": {},
   "outputs": [],
   "source": [
    "gaussian_mix = GaussianMixture(n_components=5, covariance_type='full', \n",
    "                               max_iter=100, init_params='kmeans', \n",
    "                               random_state=42, verbose=0, verbose_interval=10)"
   ]
  },
  {
   "cell_type": "code",
   "execution_count": 26,
   "metadata": {},
   "outputs": [
    {
     "name": "stdout",
     "output_type": "stream",
     "text": [
      "Wall time: 1.32 s\n"
     ]
    },
    {
     "data": {
      "text/plain": [
       "GaussianMixture(covariance_type='full', init_params='kmeans', max_iter=100,\n",
       "                means_init=None, n_components=5, n_init=1, precisions_init=None,\n",
       "                random_state=42, reg_covar=1e-06, tol=0.001, verbose=0,\n",
       "                verbose_interval=10, warm_start=False, weights_init=None)"
      ]
     },
     "execution_count": 26,
     "metadata": {},
     "output_type": "execute_result"
    }
   ],
   "source": [
    "%%time\n",
    "gaussian_mix.fit(X_train)"
   ]
  },
  {
   "cell_type": "code",
   "execution_count": 27,
   "metadata": {},
   "outputs": [],
   "source": [
    "X_train_gmm = gaussian_mix.predict(X_train).reshape(-1, 1)\n",
    "X_test_gmm = gaussian_mix.predict(X_test).reshape(-1, 1)"
   ]
  },
  {
   "cell_type": "code",
   "execution_count": 28,
   "metadata": {},
   "outputs": [
    {
     "name": "stdout",
     "output_type": "stream",
     "text": [
      "Wall time: 1.64 s\n"
     ]
    },
    {
     "data": {
      "text/plain": [
       "Pipeline(memory=None,\n",
       "         steps=[('scl',\n",
       "                 StandardScaler(copy=True, with_mean=True, with_std=True)),\n",
       "                ('clf',\n",
       "                 MLPClassifier(activation='relu', alpha=0.0001,\n",
       "                               batch_size='auto', beta_1=0.9, beta_2=0.999,\n",
       "                               early_stopping=False, epsilon=1e-08,\n",
       "                               hidden_layer_sizes=(120,),\n",
       "                               learning_rate='constant',\n",
       "                               learning_rate_init=0.001, max_iter=1000,\n",
       "                               momentum=0.9, n_iter_no_change=10,\n",
       "                               nesterovs_momentum=True, power_t=0.5,\n",
       "                               random_state=42, shuffle=True, solver='adam',\n",
       "                               tol=0.0001, validation_fraction=0.1,\n",
       "                               verbose=False, warm_start=False))],\n",
       "         verbose=False)"
      ]
     },
     "execution_count": 28,
     "metadata": {},
     "output_type": "execute_result"
    }
   ],
   "source": [
    "%%time\n",
    "# EM data only\n",
    "pipe_mlp = Pipeline([('scl', StandardScaler()),\n",
    "                     ('clf', MLPClassifier(max_iter=1000, \n",
    "                                           activation='relu', \n",
    "                                           solver='adam', \n",
    "                                           hidden_layer_sizes=(120,), \n",
    "                                           random_state=42))])\n",
    "\n",
    "pipe_mlp.fit(X_train_gmm, y_train)"
   ]
  },
  {
   "cell_type": "code",
   "execution_count": 29,
   "metadata": {},
   "outputs": [
    {
     "name": "stdout",
     "output_type": "stream",
     "text": [
      "Train Accuracy: 0.781\n",
      "Test Accuracy: 0.803\n",
      "Train AUC: 0.790\n",
      "Test AUC: 0.807\n"
     ]
    }
   ],
   "source": [
    "print('Train Accuracy: %.3f' % pipe_mlp.score(X_train_gmm, y_train))\n",
    "print('Test Accuracy: %.3f' % pipe_mlp.score(X_test_gmm, y_test))\n",
    "\n",
    "y_pred = pipe_mlp.predict(X_train_gmm)\n",
    "print('Train AUC: %.3f' % roc_auc_score(y_train, y_pred))\n",
    "train_auc_list.append(roc_auc_score(y_train, y_pred))\n",
    "\n",
    "y_pred = pipe_mlp.predict(X_test_gmm)\n",
    "print('Test AUC: %.3f' % roc_auc_score(y_test, y_pred))\n",
    "test_auc_list.append(roc_auc_score(y_test, y_pred))"
   ]
  },
  {
   "cell_type": "code",
   "execution_count": 30,
   "metadata": {},
   "outputs": [],
   "source": [
    "X_train_gmm_combined = np.concatenate([X_train, X_train_gmm], axis=1)\n",
    "X_test_gmm_combined = np.concatenate([X_test, X_test_gmm], axis=1)"
   ]
  },
  {
   "cell_type": "code",
   "execution_count": 31,
   "metadata": {},
   "outputs": [
    {
     "name": "stdout",
     "output_type": "stream",
     "text": [
      "Wall time: 8.28 s\n"
     ]
    },
    {
     "data": {
      "text/plain": [
       "Pipeline(memory=None,\n",
       "         steps=[('scl',\n",
       "                 StandardScaler(copy=True, with_mean=True, with_std=True)),\n",
       "                ('clf',\n",
       "                 MLPClassifier(activation='relu', alpha=0.0001,\n",
       "                               batch_size='auto', beta_1=0.9, beta_2=0.999,\n",
       "                               early_stopping=False, epsilon=1e-08,\n",
       "                               hidden_layer_sizes=(120,),\n",
       "                               learning_rate='constant',\n",
       "                               learning_rate_init=0.001, max_iter=1000,\n",
       "                               momentum=0.9, n_iter_no_change=10,\n",
       "                               nesterovs_momentum=True, power_t=0.5,\n",
       "                               random_state=42, shuffle=True, solver='adam',\n",
       "                               tol=0.0001, validation_fraction=0.1,\n",
       "                               verbose=False, warm_start=False))],\n",
       "         verbose=False)"
      ]
     },
     "execution_count": 31,
     "metadata": {},
     "output_type": "execute_result"
    }
   ],
   "source": [
    "%%time\n",
    "# EM combined with original data\n",
    "pipe_mlp = Pipeline([('scl', StandardScaler()),\n",
    "                     ('clf', MLPClassifier(max_iter=1000, \n",
    "                                           activation='relu', \n",
    "                                           solver='adam', \n",
    "                                           hidden_layer_sizes=(120,), \n",
    "                                           random_state=42))])\n",
    "\n",
    "pipe_mlp.fit(X_train_gmm_combined, y_train)"
   ]
  },
  {
   "cell_type": "code",
   "execution_count": 32,
   "metadata": {},
   "outputs": [
    {
     "name": "stdout",
     "output_type": "stream",
     "text": [
      "Train Accuracy: 0.995\n",
      "Test Accuracy: 0.956\n",
      "Train AUC: 0.994\n",
      "Test AUC: 0.953\n"
     ]
    }
   ],
   "source": [
    "print('Train Accuracy: %.3f' % pipe_mlp.score(X_train_gmm_combined, y_train))\n",
    "print('Test Accuracy: %.3f' % pipe_mlp.score(X_test_gmm_combined, y_test))\n",
    "\n",
    "y_pred = pipe_mlp.predict(X_train_gmm_combined)\n",
    "print('Train AUC: %.3f' % roc_auc_score(y_train, y_pred))\n",
    "train_auc_list.append(roc_auc_score(y_train, y_pred))\n",
    "\n",
    "y_pred = pipe_mlp.predict(X_test_gmm_combined)\n",
    "print('Test AUC: %.3f' % roc_auc_score(y_test, y_pred))\n",
    "test_auc_list.append(roc_auc_score(y_test, y_pred))"
   ]
  },
  {
   "cell_type": "markdown",
   "metadata": {},
   "source": [
    "## Dimensionality Reduction Algorithms"
   ]
  },
  {
   "cell_type": "markdown",
   "metadata": {},
   "source": [
    "### Principal Component Analysis"
   ]
  },
  {
   "cell_type": "code",
   "execution_count": 33,
   "metadata": {},
   "outputs": [],
   "source": [
    "pca = PCA(n_components=2, copy=True, \n",
    "          whiten=False, svd_solver='auto', \n",
    "          tol=0.0, iterated_power='auto', \n",
    "          random_state=42)"
   ]
  },
  {
   "cell_type": "code",
   "execution_count": 34,
   "metadata": {},
   "outputs": [
    {
     "name": "stdout",
     "output_type": "stream",
     "text": [
      "Wall time: 14 ms\n"
     ]
    }
   ],
   "source": [
    "%%time\n",
    "X_train_pca = pca.fit_transform(X_train)"
   ]
  },
  {
   "cell_type": "code",
   "execution_count": 35,
   "metadata": {},
   "outputs": [],
   "source": [
    "X_test_pca = pca.transform(X_test)"
   ]
  },
  {
   "cell_type": "code",
   "execution_count": 36,
   "metadata": {},
   "outputs": [
    {
     "name": "stdout",
     "output_type": "stream",
     "text": [
      "Wall time: 2.81 s\n"
     ]
    },
    {
     "data": {
      "text/plain": [
       "Pipeline(memory=None,\n",
       "         steps=[('scl',\n",
       "                 StandardScaler(copy=True, with_mean=True, with_std=True)),\n",
       "                ('clf',\n",
       "                 MLPClassifier(activation='relu', alpha=0.0001,\n",
       "                               batch_size='auto', beta_1=0.9, beta_2=0.999,\n",
       "                               early_stopping=False, epsilon=1e-08,\n",
       "                               hidden_layer_sizes=(120,),\n",
       "                               learning_rate='constant',\n",
       "                               learning_rate_init=0.001, max_iter=1000,\n",
       "                               momentum=0.9, n_iter_no_change=10,\n",
       "                               nesterovs_momentum=True, power_t=0.5,\n",
       "                               random_state=42, shuffle=True, solver='adam',\n",
       "                               tol=0.0001, validation_fraction=0.1,\n",
       "                               verbose=False, warm_start=False))],\n",
       "         verbose=False)"
      ]
     },
     "execution_count": 36,
     "metadata": {},
     "output_type": "execute_result"
    }
   ],
   "source": [
    "%%time\n",
    "pipe_mlp = Pipeline([('scl', StandardScaler()),\n",
    "                     ('clf', MLPClassifier(max_iter=1000, \n",
    "                                           activation='relu', \n",
    "                                           solver='adam', \n",
    "                                           hidden_layer_sizes=(120,), \n",
    "                                           random_state=42))])\n",
    "\n",
    "pipe_mlp.fit(X_train_pca, y_train)"
   ]
  },
  {
   "cell_type": "code",
   "execution_count": 37,
   "metadata": {},
   "outputs": [
    {
     "name": "stdout",
     "output_type": "stream",
     "text": [
      "Train Accuracy: 0.755\n",
      "Test Accuracy: 0.749\n",
      "Train AUC: 0.732\n",
      "Test AUC: 0.732\n"
     ]
    }
   ],
   "source": [
    "print('Train Accuracy: %.3f' % pipe_mlp.score(X_train_pca, y_train))\n",
    "print('Test Accuracy: %.3f' % pipe_mlp.score(X_test_pca, y_test))\n",
    "\n",
    "y_pred = pipe_mlp.predict(X_train_pca)\n",
    "print('Train AUC: %.3f' % roc_auc_score(y_train, y_pred))\n",
    "train_auc_list.append(roc_auc_score(y_train, y_pred))\n",
    "\n",
    "y_pred = pipe_mlp.predict(X_test_pca)\n",
    "print('Test AUC: %.3f' % roc_auc_score(y_test, y_pred))\n",
    "test_auc_list.append(roc_auc_score(y_test, y_pred))"
   ]
  },
  {
   "cell_type": "markdown",
   "metadata": {},
   "source": [
    "### Independent Component Analysis"
   ]
  },
  {
   "cell_type": "code",
   "execution_count": 38,
   "metadata": {},
   "outputs": [],
   "source": [
    "ica = FastICA(n_components=4, algorithm='parallel', \n",
    "              whiten=True, fun='logcosh', fun_args=None, \n",
    "              max_iter=200, tol=0.0001, w_init=None, \n",
    "              random_state=42)"
   ]
  },
  {
   "cell_type": "code",
   "execution_count": 39,
   "metadata": {},
   "outputs": [
    {
     "name": "stdout",
     "output_type": "stream",
     "text": [
      "Wall time: 56.8 ms\n"
     ]
    }
   ],
   "source": [
    "%%time\n",
    "X_train_ica = ica.fit_transform(X_train)"
   ]
  },
  {
   "cell_type": "code",
   "execution_count": 40,
   "metadata": {},
   "outputs": [],
   "source": [
    "X_test_ica = ica.transform(X_test)"
   ]
  },
  {
   "cell_type": "code",
   "execution_count": 41,
   "metadata": {},
   "outputs": [
    {
     "name": "stdout",
     "output_type": "stream",
     "text": [
      "Wall time: 8.86 s\n"
     ]
    },
    {
     "data": {
      "text/plain": [
       "MLPClassifier(activation='relu', alpha=0.0001, batch_size='auto', beta_1=0.9,\n",
       "              beta_2=0.999, early_stopping=False, epsilon=1e-08,\n",
       "              hidden_layer_sizes=(120,), learning_rate='constant',\n",
       "              learning_rate_init=0.001, max_iter=1000, momentum=0.9,\n",
       "              n_iter_no_change=10, nesterovs_momentum=True, power_t=0.5,\n",
       "              random_state=42, shuffle=True, solver='adam', tol=0.0001,\n",
       "              validation_fraction=0.1, verbose=False, warm_start=False)"
      ]
     },
     "execution_count": 41,
     "metadata": {},
     "output_type": "execute_result"
    }
   ],
   "source": [
    "%%time\n",
    "pipe_mlp = MLPClassifier(max_iter=1000, \n",
    "                    activation='relu', \n",
    "                    solver='adam', \n",
    "                    hidden_layer_sizes=(120,), \n",
    "                    random_state=42)\n",
    "\n",
    "pipe_mlp.fit(X_train_ica, y_train)"
   ]
  },
  {
   "cell_type": "code",
   "execution_count": 42,
   "metadata": {},
   "outputs": [
    {
     "name": "stdout",
     "output_type": "stream",
     "text": [
      "Train Accuracy: 0.820\n",
      "Test Accuracy: 0.808\n",
      "Train AUC: 0.808\n",
      "Test AUC: 0.797\n"
     ]
    }
   ],
   "source": [
    "print('Train Accuracy: %.3f' % pipe_mlp.score(X_train_ica, y_train))\n",
    "print('Test Accuracy: %.3f' % pipe_mlp.score(X_test_ica, y_test))\n",
    "\n",
    "y_pred = pipe_mlp.predict(X_train_ica)\n",
    "print('Train AUC: %.3f' % roc_auc_score(y_train, y_pred))\n",
    "train_auc_list.append(roc_auc_score(y_train, y_pred))\n",
    "\n",
    "y_pred = pipe_mlp.predict(X_test_ica)\n",
    "print('Test AUC: %.3f' % roc_auc_score(y_test, y_pred))\n",
    "test_auc_list.append(roc_auc_score(y_test, y_pred))"
   ]
  },
  {
   "cell_type": "markdown",
   "metadata": {},
   "source": [
    "### Random Projection (Gaussian)"
   ]
  },
  {
   "cell_type": "code",
   "execution_count": 43,
   "metadata": {},
   "outputs": [],
   "source": [
    "grp = GaussianRandomProjection(n_components=23, \n",
    "                               eps=0.1, \n",
    "                               random_state=42)"
   ]
  },
  {
   "cell_type": "code",
   "execution_count": 44,
   "metadata": {},
   "outputs": [
    {
     "name": "stdout",
     "output_type": "stream",
     "text": [
      "Wall time: 3.99 ms\n"
     ]
    }
   ],
   "source": [
    "%%time\n",
    "X_train_grp = grp.fit_transform(X_train)"
   ]
  },
  {
   "cell_type": "code",
   "execution_count": 45,
   "metadata": {},
   "outputs": [],
   "source": [
    "X_test_grp = grp.transform(X_test)"
   ]
  },
  {
   "cell_type": "code",
   "execution_count": 46,
   "metadata": {},
   "outputs": [
    {
     "name": "stdout",
     "output_type": "stream",
     "text": [
      "Wall time: 5.95 s\n"
     ]
    },
    {
     "data": {
      "text/plain": [
       "Pipeline(memory=None,\n",
       "         steps=[('scl',\n",
       "                 StandardScaler(copy=True, with_mean=True, with_std=True)),\n",
       "                ('clf',\n",
       "                 MLPClassifier(activation='relu', alpha=0.0001,\n",
       "                               batch_size='auto', beta_1=0.9, beta_2=0.999,\n",
       "                               early_stopping=False, epsilon=1e-08,\n",
       "                               hidden_layer_sizes=(120,),\n",
       "                               learning_rate='constant',\n",
       "                               learning_rate_init=0.001, max_iter=1000,\n",
       "                               momentum=0.9, n_iter_no_change=10,\n",
       "                               nesterovs_momentum=True, power_t=0.5,\n",
       "                               random_state=42, shuffle=True, solver='adam',\n",
       "                               tol=0.0001, validation_fraction=0.1,\n",
       "                               verbose=False, warm_start=False))],\n",
       "         verbose=False)"
      ]
     },
     "execution_count": 46,
     "metadata": {},
     "output_type": "execute_result"
    }
   ],
   "source": [
    "%%time\n",
    "pipe_mlp = Pipeline([('scl', StandardScaler()),\n",
    "                     ('clf', MLPClassifier(max_iter=1000, \n",
    "                                           activation='relu', \n",
    "                                           solver='adam', \n",
    "                                           hidden_layer_sizes=(120,), \n",
    "                                           random_state=42))])\n",
    "\n",
    "pipe_mlp.fit(X_train_grp, y_train)"
   ]
  },
  {
   "cell_type": "code",
   "execution_count": 47,
   "metadata": {},
   "outputs": [
    {
     "name": "stdout",
     "output_type": "stream",
     "text": [
      "Train Accuracy: 0.883\n",
      "Test Accuracy: 0.872\n",
      "Train AUC: 0.872\n",
      "Test AUC: 0.863\n"
     ]
    }
   ],
   "source": [
    "print('Train Accuracy: %.3f' % pipe_mlp.score(X_train_grp, y_train))\n",
    "print('Test Accuracy: %.3f' % pipe_mlp.score(X_test_grp, y_test))\n",
    "\n",
    "y_pred = pipe_mlp.predict(X_train_grp)\n",
    "print('Train AUC: %.3f' % roc_auc_score(y_train, y_pred))\n",
    "train_auc_list.append(roc_auc_score(y_train, y_pred))\n",
    "\n",
    "y_pred = pipe_mlp.predict(X_test_grp)\n",
    "print('Test AUC: %.3f' % roc_auc_score(y_test, y_pred))\n",
    "test_auc_list.append(roc_auc_score(y_test, y_pred))"
   ]
  },
  {
   "cell_type": "markdown",
   "metadata": {},
   "source": [
    "### Linear Discriminant Analysis"
   ]
  },
  {
   "cell_type": "code",
   "execution_count": 48,
   "metadata": {},
   "outputs": [],
   "source": [
    "lda = LinearDiscriminantAnalysis(n_components=1, \n",
    "                                 solver='svd', \n",
    "                                 store_covariance=False, \n",
    "                                 tol=0.0001)"
   ]
  },
  {
   "cell_type": "code",
   "execution_count": 49,
   "metadata": {},
   "outputs": [
    {
     "name": "stdout",
     "output_type": "stream",
     "text": [
      "Wall time: 70.8 ms\n"
     ]
    }
   ],
   "source": [
    "%%time\n",
    "X_train_lda = lda.fit_transform(X_train, y_train)"
   ]
  },
  {
   "cell_type": "code",
   "execution_count": 50,
   "metadata": {},
   "outputs": [],
   "source": [
    "X_test_lda = lda.transform(X_test)"
   ]
  },
  {
   "cell_type": "code",
   "execution_count": 51,
   "metadata": {},
   "outputs": [
    {
     "name": "stdout",
     "output_type": "stream",
     "text": [
      "Wall time: 1.33 s\n"
     ]
    },
    {
     "data": {
      "text/plain": [
       "Pipeline(memory=None,\n",
       "         steps=[('scl',\n",
       "                 StandardScaler(copy=True, with_mean=True, with_std=True)),\n",
       "                ('clf',\n",
       "                 MLPClassifier(activation='relu', alpha=0.0001,\n",
       "                               batch_size='auto', beta_1=0.9, beta_2=0.999,\n",
       "                               early_stopping=False, epsilon=1e-08,\n",
       "                               hidden_layer_sizes=(120,),\n",
       "                               learning_rate='constant',\n",
       "                               learning_rate_init=0.001, max_iter=1000,\n",
       "                               momentum=0.9, n_iter_no_change=10,\n",
       "                               nesterovs_momentum=True, power_t=0.5,\n",
       "                               random_state=42, shuffle=True, solver='adam',\n",
       "                               tol=0.0001, validation_fraction=0.1,\n",
       "                               verbose=False, warm_start=False))],\n",
       "         verbose=False)"
      ]
     },
     "execution_count": 51,
     "metadata": {},
     "output_type": "execute_result"
    }
   ],
   "source": [
    "%%time\n",
    "pipe_mlp = Pipeline([('scl', StandardScaler()),\n",
    "                     ('clf', MLPClassifier(max_iter=1000, \n",
    "                                           activation='relu', \n",
    "                                           solver='adam', \n",
    "                                           hidden_layer_sizes=(120,), \n",
    "                                           random_state=42))])\n",
    "\n",
    "pipe_mlp.fit(X_train_lda, y_train)"
   ]
  },
  {
   "cell_type": "code",
   "execution_count": 52,
   "metadata": {},
   "outputs": [
    {
     "name": "stdout",
     "output_type": "stream",
     "text": [
      "Train Accuracy: 0.911\n",
      "Test Accuracy: 0.910\n",
      "Train AUC: 0.905\n",
      "Test AUC: 0.906\n"
     ]
    }
   ],
   "source": [
    "print('Train Accuracy: %.3f' % pipe_mlp.score(X_train_lda, y_train))\n",
    "print('Test Accuracy: %.3f' % pipe_mlp.score(X_test_lda, y_test))\n",
    "\n",
    "y_pred = pipe_mlp.predict(X_train_lda)\n",
    "print('Train AUC: %.3f' % roc_auc_score(y_train, y_pred))\n",
    "train_auc_list.append(roc_auc_score(y_train, y_pred))\n",
    "\n",
    "y_pred = pipe_mlp.predict(X_test_lda)\n",
    "print('Test AUC: %.3f' % roc_auc_score(y_test, y_pred))\n",
    "test_auc_list.append(roc_auc_score(y_test, y_pred))"
   ]
  },
  {
   "cell_type": "markdown",
   "metadata": {},
   "source": [
    "### Random Forest Feature Selection"
   ]
  },
  {
   "cell_type": "code",
   "execution_count": 53,
   "metadata": {},
   "outputs": [
    {
     "name": "stdout",
     "output_type": "stream",
     "text": [
      "Wall time: 2.98 s\n"
     ]
    }
   ],
   "source": [
    "%%time\n",
    "feat_labels = spambase_df.columns[:-1]\n",
    "forest = RandomForestClassifier(n_estimators=500,\n",
    "                                random_state=42)\n",
    "forest.fit(X_train, y_train)\n",
    "importances = forest.feature_importances_\n",
    "indices = np.argsort(importances)[::-1]"
   ]
  },
  {
   "cell_type": "code",
   "execution_count": 54,
   "metadata": {},
   "outputs": [],
   "source": [
    "X_train_rf = X_train[:, indices[:22]]\n",
    "X_test_rf = X_test[:, indices[:22]]"
   ]
  },
  {
   "cell_type": "code",
   "execution_count": 55,
   "metadata": {},
   "outputs": [
    {
     "name": "stdout",
     "output_type": "stream",
     "text": [
      "Wall time: 11.6 s\n"
     ]
    },
    {
     "data": {
      "text/plain": [
       "Pipeline(memory=None,\n",
       "         steps=[('scl',\n",
       "                 StandardScaler(copy=True, with_mean=True, with_std=True)),\n",
       "                ('clf',\n",
       "                 MLPClassifier(activation='relu', alpha=0.0001,\n",
       "                               batch_size='auto', beta_1=0.9, beta_2=0.999,\n",
       "                               early_stopping=False, epsilon=1e-08,\n",
       "                               hidden_layer_sizes=(120,),\n",
       "                               learning_rate='constant',\n",
       "                               learning_rate_init=0.001, max_iter=1000,\n",
       "                               momentum=0.9, n_iter_no_change=10,\n",
       "                               nesterovs_momentum=True, power_t=0.5,\n",
       "                               random_state=42, shuffle=True, solver='adam',\n",
       "                               tol=0.0001, validation_fraction=0.1,\n",
       "                               verbose=False, warm_start=False))],\n",
       "         verbose=False)"
      ]
     },
     "execution_count": 55,
     "metadata": {},
     "output_type": "execute_result"
    }
   ],
   "source": [
    "%%time\n",
    "pipe_mlp = Pipeline([('scl', StandardScaler()),\n",
    "                     ('clf', MLPClassifier(max_iter=1000, \n",
    "                                           activation='relu', \n",
    "                                           solver='adam', \n",
    "                                           hidden_layer_sizes=(120,), \n",
    "                                           random_state=42))])\n",
    "\n",
    "pipe_mlp.fit(X_train_rf, y_train)"
   ]
  },
  {
   "cell_type": "code",
   "execution_count": 56,
   "metadata": {},
   "outputs": [
    {
     "name": "stdout",
     "output_type": "stream",
     "text": [
      "Train Accuracy: 0.990\n",
      "Test Accuracy: 0.930\n",
      "Train AUC: 0.988\n",
      "Test AUC: 0.925\n"
     ]
    }
   ],
   "source": [
    "print('Train Accuracy: %.3f' % pipe_mlp.score(X_train_rf, y_train))\n",
    "print('Test Accuracy: %.3f' % pipe_mlp.score(X_test_rf, y_test))\n",
    "\n",
    "y_pred = pipe_mlp.predict(X_train_rf)\n",
    "print('Train AUC: %.3f' % roc_auc_score(y_train, y_pred))\n",
    "train_auc_list.append(roc_auc_score(y_train, y_pred))\n",
    "\n",
    "y_pred = pipe_mlp.predict(X_test_rf)\n",
    "print('Test AUC: %.3f' % roc_auc_score(y_test, y_pred))\n",
    "test_auc_list.append(roc_auc_score(y_test, y_pred))"
   ]
  },
  {
   "cell_type": "markdown",
   "metadata": {},
   "source": [
    "### Original"
   ]
  },
  {
   "cell_type": "code",
   "execution_count": 67,
   "metadata": {},
   "outputs": [
    {
     "name": "stdout",
     "output_type": "stream",
     "text": [
      "Wall time: 6.2 s\n"
     ]
    },
    {
     "data": {
      "text/plain": [
       "Pipeline(memory=None,\n",
       "         steps=[('scl',\n",
       "                 StandardScaler(copy=True, with_mean=True, with_std=True)),\n",
       "                ('clf',\n",
       "                 MLPClassifier(activation='relu', alpha=0.0001,\n",
       "                               batch_size='auto', beta_1=0.9, beta_2=0.999,\n",
       "                               early_stopping=False, epsilon=1e-08,\n",
       "                               hidden_layer_sizes=(160,),\n",
       "                               learning_rate='constant',\n",
       "                               learning_rate_init=0.001, max_iter=1000,\n",
       "                               momentum=0.9, n_iter_no_change=10,\n",
       "                               nesterovs_momentum=True, power_t=0.5,\n",
       "                               random_state=42, shuffle=True, solver='adam',\n",
       "                               tol=0.0001, validation_fraction=0.1,\n",
       "                               verbose=False, warm_start=False))],\n",
       "         verbose=False)"
      ]
     },
     "execution_count": 67,
     "metadata": {},
     "output_type": "execute_result"
    }
   ],
   "source": [
    "%%time\n",
    "pipe_mlp = Pipeline([('scl', StandardScaler()),\n",
    "                     ('clf', MLPClassifier(max_iter=1000, \n",
    "                                           activation='relu', \n",
    "                                           solver='adam', \n",
    "                                           hidden_layer_sizes=(160,), \n",
    "                                           random_state=42))])\n",
    "pipe_mlp.fit(X_train, y_train)"
   ]
  },
  {
   "cell_type": "code",
   "execution_count": 70,
   "metadata": {},
   "outputs": [
    {
     "name": "stdout",
     "output_type": "stream",
     "text": [
      "Train Accuracy: 0.993\n",
      "Test Accuracy: 0.957\n",
      "Train AUC: 0.992\n",
      "Test AUC: 0.955\n"
     ]
    }
   ],
   "source": [
    "print('Train Accuracy: %.3f' % pipe_mlp.score(X_train, y_train))\n",
    "print('Test Accuracy: %.3f' % pipe_mlp.score(X_test, y_test))\n",
    "\n",
    "y_pred = pipe_mlp.predict(X_train)\n",
    "print('Train AUC: %.3f' % roc_auc_score(y_train, y_pred))\n",
    "train_auc_list.append(roc_auc_score(y_train, y_pred))\n",
    "\n",
    "y_pred = pipe_mlp.predict(X_test)\n",
    "print('Test AUC: %.3f' % roc_auc_score(y_test, y_pred))\n",
    "test_auc_list.append(roc_auc_score(y_test, y_pred))"
   ]
  },
  {
   "cell_type": "markdown",
   "metadata": {},
   "source": [
    "### Overall Results"
   ]
  },
  {
   "cell_type": "code",
   "execution_count": 72,
   "metadata": {},
   "outputs": [],
   "source": [
    "labels_list = ['K-means Only', 'K-means Augmented', 'EM Only', 'EM Augmented', 'PCA', 'ICA', 'GRP', 'LDA', 'RF', 'Original']\n",
    "training_times_list = [2.76, 9.42, 2.71, 8.16, 2.58, 8.43, 5.15, 1.09, 13.46, 6.20]\n",
    "train_auc_list = np.array(train_auc_list).reshape(len(labels_list))\n",
    "test_auc_list = np.array(test_auc_list).reshape(len(labels_list))\n",
    "\n",
    "time_zipped = zip(labels_list, training_times_list)\n",
    "time_sorted = sorted(time_zipped, key=lambda x:x[1], reverse=True)\n",
    "\n",
    "train_zipped = zip(labels_list, train_auc_list)\n",
    "train_sorted = sorted(train_zipped, key=lambda x:x[1])\n",
    "\n",
    "test_zipped = zip(labels_list, test_auc_list)\n",
    "test_sorted = sorted(test_zipped, key=lambda x:x[1])"
   ]
  },
  {
   "cell_type": "code",
   "execution_count": 73,
   "metadata": {},
   "outputs": [
    {
     "data": {
      "image/png": "[encoded data removed]",
      "text/plain": [
       "<Figure size 432x288 with 1 Axes>"
      ]
     },
     "metadata": {
      "needs_background": "light"
     },
     "output_type": "display_data"
    }
   ],
   "source": [
    "y_pos = np.arange(len(labels_list))\n",
    "plt.barh(y_pos, [times for labels, times in time_sorted], align='center', alpha=0.5)\n",
    "plt.yticks(y_pos, [labels for labels, times in time_sorted])\n",
    "plt.xlabel('Training Time (s)')\n",
    "plt.title('Training Time Comparison')\n",
    "for i, v in enumerate([times for labels, times in time_sorted]):\n",
    "    plt.text(v-1, i, \"%.1f\" % v, color='black', va='center')\n",
    "plt.tight_layout()\n",
    "save_as = 'Spambase/NN_time_comparison'\n",
    "plt.savefig('./figures/' + save_as + '.png', dpi=300)\n",
    "plt.show()"
   ]
  },
  {
   "cell_type": "code",
   "execution_count": 66,
   "metadata": {},
   "outputs": [
    {
     "data": {
      "image/png": "[encoded data removed]",
      "text/plain": [
       "<Figure size 432x288 with 1 Axes>"
      ]
     },
     "metadata": {
      "needs_background": "light"
     },
     "output_type": "display_data"
    }
   ],
   "source": [
    "y_pos = np.arange(len(labels_list))\n",
    "plt.barh(y_pos, [auc for labels, auc in train_sorted], align='center', alpha=0.5)\n",
    "plt.yticks(y_pos, [labels for labels, auc in train_sorted])\n",
    "plt.xlabel('Train ROC AUC')\n",
    "plt.title('Train ROC AUC Comparison')\n",
    "for i, v in enumerate([auc for labels, auc in train_sorted]):\n",
    "    plt.text(v-0.1, i, \"%.3f\" % v, color='black', va='center')\n",
    "plt.tight_layout()\n",
    "save_as = 'Spambase/NN_train_auc_comparison'\n",
    "plt.savefig('./figures/' + save_as + '.png', dpi=300)\n",
    "plt.show()"
   ]
  },
  {
   "cell_type": "code",
   "execution_count": 61,
   "metadata": {},
   "outputs": [
    {
     "data": {
      "image/png": "[encoded data removed]",
      "text/plain": [
       "<Figure size 432x288 with 1 Axes>"
      ]
     },
     "metadata": {
      "needs_background": "light"
     },
     "output_type": "display_data"
    }
   ],
   "source": [
    "y_pos = np.arange(len(labels_list))\n",
    "plt.barh(y_pos, [auc for labels, auc in test_sorted], align='center', alpha=0.5)\n",
    "plt.yticks(y_pos, [labels for labels, auc in test_sorted])\n",
    "plt.xlabel('Test ROC AUC')\n",
    "plt.title('Test ROC AUC Comparison')\n",
    "for i, v in enumerate([auc for labels, auc in test_sorted]):\n",
    "    plt.text(v-0.1, i, \"%.3f\" % v, color='black', va='center')\n",
    "plt.tight_layout()\n",
    "save_as = 'Spambase/NN_test_auc_comparison'\n",
    "plt.savefig('./figures/' + save_as + '.png', dpi=300)\n",
    "plt.show()"
   ]
  },
  {
   "cell_type": "code",
   "execution_count": null,
   "metadata": {},
   "outputs": [],
   "source": []
  }
 ],
 "metadata": {
  "kernelspec": {
   "display_name": "Python 3",
   "language": "python",
   "name": "python3"
  },
  "language_info": {
   "codemirror_mode": {
    "name": "ipython",
    "version": 3
   },
   "file_extension": ".py",
   "mimetype": "text/x-python",
   "name": "python",
   "nbconvert_exporter": "python",
   "pygments_lexer": "ipython3",
   "version": "3.7.4"
  }
 },
 "nbformat": 4,
 "nbformat_minor": 2
}
