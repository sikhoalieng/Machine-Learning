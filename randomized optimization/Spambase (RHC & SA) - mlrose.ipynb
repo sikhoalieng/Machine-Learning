{
 "cells": [
  {
   "cell_type": "markdown",
   "metadata": {},
   "source": [
    "### Import libraries"
   ]
  },
  {
   "cell_type": "code",
   "execution_count": 1,
   "metadata": {},
   "outputs": [],
   "source": [
    "# Ingore warnings\n",
    "import warnings\n",
    "warnings.filterwarnings('ignore')"
   ]
  },
  {
   "cell_type": "code",
   "execution_count": 2,
   "metadata": {},
   "outputs": [],
   "source": [
    "# mlrose: created by Genevieve Hayes, modified by Andrew Rollings\n",
    "import mlrose\n",
    "\n",
    "# Numpy\n",
    "import numpy as np"
   ]
  },
  {
   "cell_type": "code",
   "execution_count": 3,
   "metadata": {},
   "outputs": [],
   "source": [
    "# Sklearn metrics\n",
    "from sklearn.metrics import accuracy_score\n",
    "from sklearn.metrics import roc_auc_score\n",
    "from sklearn.metrics import make_scorer\n",
    "from sklearn.metrics import roc_curve\n",
    "from sklearn.metrics import auc\n",
    "\n",
    "# Sklearn model selection\n",
    "from sklearn.model_selection import GridSearchCV\n",
    "from sklearn.model_selection import learning_curve\n",
    "from sklearn.model_selection import validation_curve\n",
    "\n",
    "# Preprocessing\n",
    "from sklearn.preprocessing import StandardScaler\n",
    "\n",
    "# Plotting\n",
    "import matplotlib.pyplot as plt"
   ]
  },
  {
   "cell_type": "markdown",
   "metadata": {},
   "source": [
    "### Load and preprocess data"
   ]
  },
  {
   "cell_type": "code",
   "execution_count": 4,
   "metadata": {},
   "outputs": [],
   "source": [
    "# Train Data\n",
    "X_train = np.genfromtxt('./data/Spambase_X_train.csv', delimiter=',')\n",
    "# Test Data\n",
    "X_test = np.genfromtxt('./data/Spambase_X_test.csv', delimiter=',')\n",
    "\n",
    "# # Train Labels\n",
    "y_train = np.genfromtxt('./data/Spambase_y_train.csv', delimiter=',')\n",
    "# Test Labels\n",
    "y_test = np.genfromtxt('./data/Spambase_y_test.csv', delimiter=',')"
   ]
  },
  {
   "cell_type": "code",
   "execution_count": 5,
   "metadata": {},
   "outputs": [],
   "source": [
    "# Standardize data with StandardScaler\n",
    "scaler = StandardScaler()\n",
    "\n",
    "# Fit scaler to the training set\n",
    "scaler.fit(X_train)\n",
    "\n",
    "# Preprocess Train Data\n",
    "X_train = scaler.transform(X_train)\n",
    "# Preprocess Test Data\n",
    "X_test = scaler.transform(X_test)"
   ]
  },
  {
   "cell_type": "markdown",
   "metadata": {},
   "source": [
    "### AUC Scorer"
   ]
  },
  {
   "cell_type": "code",
   "execution_count": 6,
   "metadata": {},
   "outputs": [],
   "source": [
    "scorer = make_scorer(roc_auc_score)"
   ]
  },
  {
   "cell_type": "markdown",
   "metadata": {},
   "source": [
    "### Randomized Hill Climbing"
   ]
  },
  {
   "cell_type": "code",
   "execution_count": 13,
   "metadata": {},
   "outputs": [],
   "source": [
    "nn_rhc = mlrose.NeuralNetwork(hidden_nodes=[120], activation='relu', \n",
    "                              algorithm='random_hill_climb', \n",
    "                              max_iters=20000, bias=True, is_classifier=True, \n",
    "                              learning_rate=0.001, early_stopping=False,\n",
    "                              clip_max=5, max_attempts=10, restarts=5, random_state=42)"
   ]
  },
  {
   "cell_type": "code",
   "execution_count": 14,
   "metadata": {},
   "outputs": [
    {
     "name": "stdout",
     "output_type": "stream",
     "text": [
      "Wall time: 38min 47s\n"
     ]
    },
    {
     "data": {
      "text/plain": [
       "NeuralNetwork(activation='relu', algorithm='random_hill_climb', bias=True,\n",
       "              clip_max=5, curve=False, early_stopping=False, hidden_nodes=[120],\n",
       "              is_classifier=True, learning_rate=0.001, max_attempts=10,\n",
       "              max_iters=20000, mutation_prob=0.1, pop_size=200, random_state=42,\n",
       "              restarts=5,\n",
       "              schedule=GeomDecay(init_temp=1.0, decay=0.99, min_temp=0.001))"
      ]
     },
     "execution_count": 14,
     "metadata": {},
     "output_type": "execute_result"
    }
   ],
   "source": [
    "%%time\n",
    "nn_rhc.fit(X_train, y_train)"
   ]
  },
  {
   "cell_type": "code",
   "execution_count": 15,
   "metadata": {},
   "outputs": [
    {
     "name": "stdout",
     "output_type": "stream",
     "text": [
      "Test Accuracy: 0.550\n",
      "Test AUC: 0.537\n",
      "Wall time: 9.97 ms\n"
     ]
    }
   ],
   "source": [
    "%%time\n",
    "y_pred = nn_rhc.predict(X_test)\n",
    "print('Test Accuracy: %.3f' % accuracy_score(y_test, y_pred))\n",
    "print('Test AUC: %.3f' % roc_auc_score(y_test, y_pred))"
   ]
  },
  {
   "cell_type": "markdown",
   "metadata": {},
   "source": [
    "### Simulated Annealing"
   ]
  },
  {
   "cell_type": "code",
   "execution_count": 19,
   "metadata": {},
   "outputs": [],
   "source": [
    "nn_sa = mlrose.NeuralNetwork(hidden_nodes=[120], activation='relu', \n",
    "                             algorithm='simulated_annealing', \n",
    "                             max_iters=20000, bias=True, is_classifier=True, \n",
    "                             learning_rate=0.001, early_stopping=False, schedule=mlrose.GeomDecay(decay=0.99), \n",
    "                             clip_max=5, max_attempts=10, random_state=42)"
   ]
  },
  {
   "cell_type": "code",
   "execution_count": 20,
   "metadata": {},
   "outputs": [
    {
     "name": "stdout",
     "output_type": "stream",
     "text": [
      "Wall time: 8min 45s\n"
     ]
    },
    {
     "data": {
      "text/plain": [
       "NeuralNetwork(activation='relu', algorithm='simulated_annealing', bias=True,\n",
       "              clip_max=5, curve=False, early_stopping=False, hidden_nodes=[120],\n",
       "              is_classifier=True, learning_rate=0.001, max_attempts=10,\n",
       "              max_iters=20000, mutation_prob=0.1, pop_size=200, random_state=42,\n",
       "              restarts=0,\n",
       "              schedule=GeomDecay(init_temp=1.0, decay=0.99, min_temp=0.001))"
      ]
     },
     "execution_count": 20,
     "metadata": {},
     "output_type": "execute_result"
    }
   ],
   "source": [
    "%%time\n",
    "nn_sa.fit(X_train, y_train)"
   ]
  },
  {
   "cell_type": "code",
   "execution_count": 21,
   "metadata": {},
   "outputs": [
    {
     "name": "stdout",
     "output_type": "stream",
     "text": [
      "Test Accuracy: 0.545\n",
      "Test AUC: 0.532\n",
      "Wall time: 8.49 ms\n"
     ]
    }
   ],
   "source": [
    "%%time\n",
    "y_pred = nn_sa.predict(X_test)\n",
    "print('Test Accuracy: %.3f' % accuracy_score(y_test, y_pred))\n",
    "print('Test AUC: %.3f' % roc_auc_score(y_test, y_pred))"
   ]
  },
  {
   "cell_type": "markdown",
   "metadata": {},
   "source": [
    "#### Conclusions\n",
    "Randomized Hill Climbing @20K iterations:\n",
    "* Test Accuracy: 0.550\n",
    "* Test AUC: 0.537\n",
    "\n",
    "Simulated Annealing @20K iterations:\n",
    "* Test Accuracy: 0.545\n",
    "* Test AUC: 0.532\n",
    "\n",
    "#### No significant improvements were observed even after 20K iterations."
   ]
  },
  {
   "cell_type": "code",
   "execution_count": null,
   "metadata": {},
   "outputs": [],
   "source": []
  }
 ],
 "metadata": {
  "kernelspec": {
   "display_name": "Python 3",
   "language": "python",
   "name": "python3"
  },
  "language_info": {
   "codemirror_mode": {
    "name": "ipython",
    "version": 3
   },
   "file_extension": ".py",
   "mimetype": "text/x-python",
   "name": "python",
   "nbconvert_exporter": "python",
   "pygments_lexer": "ipython3",
   "version": "3.7.4"
  }
 },
 "nbformat": 4,
 "nbformat_minor": 1
}
